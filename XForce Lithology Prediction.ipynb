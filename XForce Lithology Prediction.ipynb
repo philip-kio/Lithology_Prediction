{
 "cells": [
  {
   "cell_type": "code",
   "execution_count": 1,
   "metadata": {},
   "outputs": [],
   "source": [
    "import numpy as np \n",
    "import pandas as pd\n"
   ]
  },
  {
   "cell_type": "markdown",
   "metadata": {},
   "source": [
    "## Loading Training Data"
   ]
  },
  {
   "cell_type": "code",
   "execution_count": 2,
   "metadata": {},
   "outputs": [
    {
     "data": {
      "text/html": [
       "<div>\n",
       "<style scoped>\n",
       "    .dataframe tbody tr th:only-of-type {\n",
       "        vertical-align: middle;\n",
       "    }\n",
       "\n",
       "    .dataframe tbody tr th {\n",
       "        vertical-align: top;\n",
       "    }\n",
       "\n",
       "    .dataframe thead th {\n",
       "        text-align: right;\n",
       "    }\n",
       "</style>\n",
       "<table border=\"1\" class=\"dataframe\">\n",
       "  <thead>\n",
       "    <tr style=\"text-align: right;\">\n",
       "      <th></th>\n",
       "      <th>WELL</th>\n",
       "      <th>DEPTH_MD</th>\n",
       "      <th>X_LOC</th>\n",
       "      <th>Y_LOC</th>\n",
       "      <th>Z_LOC</th>\n",
       "      <th>GROUP</th>\n",
       "      <th>FORMATION</th>\n",
       "      <th>CALI</th>\n",
       "      <th>RSHA</th>\n",
       "      <th>RMED</th>\n",
       "      <th>...</th>\n",
       "      <th>ROP</th>\n",
       "      <th>DTS</th>\n",
       "      <th>DCAL</th>\n",
       "      <th>DRHO</th>\n",
       "      <th>MUDWEIGHT</th>\n",
       "      <th>RMIC</th>\n",
       "      <th>ROPA</th>\n",
       "      <th>RXO</th>\n",
       "      <th>FORCE_2020_LITHOFACIES_LITHOLOGY</th>\n",
       "      <th>FORCE_2020_LITHOFACIES_CONFIDENCE</th>\n",
       "    </tr>\n",
       "  </thead>\n",
       "  <tbody>\n",
       "    <tr>\n",
       "      <th>0</th>\n",
       "      <td>15/9-13</td>\n",
       "      <td>494.528</td>\n",
       "      <td>437641.96875</td>\n",
       "      <td>6470972.5</td>\n",
       "      <td>-469.501831</td>\n",
       "      <td>NORDLAND GP.</td>\n",
       "      <td>NaN</td>\n",
       "      <td>19.480835</td>\n",
       "      <td>NaN</td>\n",
       "      <td>1.611410</td>\n",
       "      <td>...</td>\n",
       "      <td>34.636410</td>\n",
       "      <td>NaN</td>\n",
       "      <td>NaN</td>\n",
       "      <td>-0.574928</td>\n",
       "      <td>NaN</td>\n",
       "      <td>NaN</td>\n",
       "      <td>NaN</td>\n",
       "      <td>NaN</td>\n",
       "      <td>65000</td>\n",
       "      <td>1.0</td>\n",
       "    </tr>\n",
       "    <tr>\n",
       "      <th>1</th>\n",
       "      <td>15/9-13</td>\n",
       "      <td>494.680</td>\n",
       "      <td>437641.96875</td>\n",
       "      <td>6470972.5</td>\n",
       "      <td>-469.653809</td>\n",
       "      <td>NORDLAND GP.</td>\n",
       "      <td>NaN</td>\n",
       "      <td>19.468800</td>\n",
       "      <td>NaN</td>\n",
       "      <td>1.618070</td>\n",
       "      <td>...</td>\n",
       "      <td>34.636410</td>\n",
       "      <td>NaN</td>\n",
       "      <td>NaN</td>\n",
       "      <td>-0.570188</td>\n",
       "      <td>NaN</td>\n",
       "      <td>NaN</td>\n",
       "      <td>NaN</td>\n",
       "      <td>NaN</td>\n",
       "      <td>65000</td>\n",
       "      <td>1.0</td>\n",
       "    </tr>\n",
       "    <tr>\n",
       "      <th>2</th>\n",
       "      <td>15/9-13</td>\n",
       "      <td>494.832</td>\n",
       "      <td>437641.96875</td>\n",
       "      <td>6470972.5</td>\n",
       "      <td>-469.805786</td>\n",
       "      <td>NORDLAND GP.</td>\n",
       "      <td>NaN</td>\n",
       "      <td>19.468800</td>\n",
       "      <td>NaN</td>\n",
       "      <td>1.626459</td>\n",
       "      <td>...</td>\n",
       "      <td>34.779556</td>\n",
       "      <td>NaN</td>\n",
       "      <td>NaN</td>\n",
       "      <td>-0.574245</td>\n",
       "      <td>NaN</td>\n",
       "      <td>NaN</td>\n",
       "      <td>NaN</td>\n",
       "      <td>NaN</td>\n",
       "      <td>65000</td>\n",
       "      <td>1.0</td>\n",
       "    </tr>\n",
       "    <tr>\n",
       "      <th>3</th>\n",
       "      <td>15/9-13</td>\n",
       "      <td>494.984</td>\n",
       "      <td>437641.96875</td>\n",
       "      <td>6470972.5</td>\n",
       "      <td>-469.957794</td>\n",
       "      <td>NORDLAND GP.</td>\n",
       "      <td>NaN</td>\n",
       "      <td>19.459282</td>\n",
       "      <td>NaN</td>\n",
       "      <td>1.621594</td>\n",
       "      <td>...</td>\n",
       "      <td>39.965164</td>\n",
       "      <td>NaN</td>\n",
       "      <td>NaN</td>\n",
       "      <td>-0.586315</td>\n",
       "      <td>NaN</td>\n",
       "      <td>NaN</td>\n",
       "      <td>NaN</td>\n",
       "      <td>NaN</td>\n",
       "      <td>65000</td>\n",
       "      <td>1.0</td>\n",
       "    </tr>\n",
       "    <tr>\n",
       "      <th>4</th>\n",
       "      <td>15/9-13</td>\n",
       "      <td>495.136</td>\n",
       "      <td>437641.96875</td>\n",
       "      <td>6470972.5</td>\n",
       "      <td>-470.109772</td>\n",
       "      <td>NORDLAND GP.</td>\n",
       "      <td>NaN</td>\n",
       "      <td>19.453100</td>\n",
       "      <td>NaN</td>\n",
       "      <td>1.602679</td>\n",
       "      <td>...</td>\n",
       "      <td>57.483765</td>\n",
       "      <td>NaN</td>\n",
       "      <td>NaN</td>\n",
       "      <td>-0.597914</td>\n",
       "      <td>NaN</td>\n",
       "      <td>NaN</td>\n",
       "      <td>NaN</td>\n",
       "      <td>NaN</td>\n",
       "      <td>65000</td>\n",
       "      <td>1.0</td>\n",
       "    </tr>\n",
       "  </tbody>\n",
       "</table>\n",
       "<p>5 rows × 29 columns</p>\n",
       "</div>"
      ],
      "text/plain": [
       "      WELL  DEPTH_MD         X_LOC      Y_LOC       Z_LOC         GROUP  \\\n",
       "0  15/9-13   494.528  437641.96875  6470972.5 -469.501831  NORDLAND GP.   \n",
       "1  15/9-13   494.680  437641.96875  6470972.5 -469.653809  NORDLAND GP.   \n",
       "2  15/9-13   494.832  437641.96875  6470972.5 -469.805786  NORDLAND GP.   \n",
       "3  15/9-13   494.984  437641.96875  6470972.5 -469.957794  NORDLAND GP.   \n",
       "4  15/9-13   495.136  437641.96875  6470972.5 -470.109772  NORDLAND GP.   \n",
       "\n",
       "  FORMATION       CALI  RSHA      RMED  ...        ROP  DTS  DCAL      DRHO  \\\n",
       "0       NaN  19.480835   NaN  1.611410  ...  34.636410  NaN   NaN -0.574928   \n",
       "1       NaN  19.468800   NaN  1.618070  ...  34.636410  NaN   NaN -0.570188   \n",
       "2       NaN  19.468800   NaN  1.626459  ...  34.779556  NaN   NaN -0.574245   \n",
       "3       NaN  19.459282   NaN  1.621594  ...  39.965164  NaN   NaN -0.586315   \n",
       "4       NaN  19.453100   NaN  1.602679  ...  57.483765  NaN   NaN -0.597914   \n",
       "\n",
       "   MUDWEIGHT  RMIC  ROPA  RXO  FORCE_2020_LITHOFACIES_LITHOLOGY  \\\n",
       "0        NaN   NaN   NaN  NaN                             65000   \n",
       "1        NaN   NaN   NaN  NaN                             65000   \n",
       "2        NaN   NaN   NaN  NaN                             65000   \n",
       "3        NaN   NaN   NaN  NaN                             65000   \n",
       "4        NaN   NaN   NaN  NaN                             65000   \n",
       "\n",
       "   FORCE_2020_LITHOFACIES_CONFIDENCE  \n",
       "0                                1.0  \n",
       "1                                1.0  \n",
       "2                                1.0  \n",
       "3                                1.0  \n",
       "4                                1.0  \n",
       "\n",
       "[5 rows x 29 columns]"
      ]
     },
     "execution_count": 2,
     "metadata": {},
     "output_type": "execute_result"
    }
   ],
   "source": [
    "train = pd.read_csv('train.csv',sep=';')\n",
    "\n",
    "train.head()"
   ]
  },
  {
   "cell_type": "code",
   "execution_count": 3,
   "metadata": {},
   "outputs": [
    {
     "data": {
      "text/plain": [
       "98"
      ]
     },
     "execution_count": 3,
     "metadata": {},
     "output_type": "execute_result"
    }
   ],
   "source": [
    "len(train.WELL.unique())"
   ]
  },
  {
   "cell_type": "code",
   "execution_count": 4,
   "metadata": {},
   "outputs": [
    {
     "data": {
      "text/plain": [
       "(1170511, 29)"
      ]
     },
     "execution_count": 4,
     "metadata": {},
     "output_type": "execute_result"
    }
   ],
   "source": [
    "train.shape"
   ]
  },
  {
   "cell_type": "markdown",
   "metadata": {},
   "source": [
    "### Lithological Keys \n",
    "\n",
    "I am thinking of mapping it to the numbers and then encoding it since it is reall importance and to prevent the algos from assuming numerical importance to the feature."
   ]
  },
  {
   "cell_type": "code",
   "execution_count": 5,
   "metadata": {},
   "outputs": [],
   "source": [
    "lithology_keys = {30000: 'Sandstone',\n",
    "                 65030: 'Sandstone/Shale',\n",
    "                 65000: 'Shale',\n",
    "                 80000: 'Marl',\n",
    "                 74000: 'Dolomite',\n",
    "                 70000: 'Limestone',\n",
    "                 70032: 'Chalk',\n",
    "                 88000: 'Halite',\n",
    "                 86000: 'Anhydrite',\n",
    "                 99000: 'Tuff',\n",
    "                 90000: 'Coal',\n",
    "                 93000: 'Basement'}"
   ]
  },
  {
   "cell_type": "code",
   "execution_count": 6,
   "metadata": {},
   "outputs": [
    {
     "data": {
      "text/plain": [
       "array([65000, 30000, 65030, 70000, 99000, 80000, 86000, 74000, 70032,\n",
       "       90000, 88000, 93000])"
      ]
     },
     "execution_count": 6,
     "metadata": {},
     "output_type": "execute_result"
    }
   ],
   "source": [
    "train['FORCE_2020_LITHOFACIES_LITHOLOGY'].unique()"
   ]
  },
  {
   "cell_type": "markdown",
   "metadata": {},
   "source": [
    "### Missing Data points"
   ]
  },
  {
   "cell_type": "code",
   "execution_count": 7,
   "metadata": {},
   "outputs": [
    {
     "data": {
      "text/plain": [
       "WELL                                  0.000000\n",
       "DEPTH_MD                              0.000000\n",
       "X_LOC                                 0.920538\n",
       "Y_LOC                                 0.920538\n",
       "Z_LOC                                 0.920538\n",
       "GROUP                                 0.109183\n",
       "FORMATION                            11.703777\n",
       "CALI                                  7.507576\n",
       "RSHA                                 46.121822\n",
       "RMED                                  3.331280\n",
       "RDEP                                  0.941042\n",
       "RHOB                                 13.777658\n",
       "GR                                    0.000000\n",
       "SGR                                  94.074981\n",
       "NPHI                                 34.608987\n",
       "PEF                                  42.615490\n",
       "DTC                                   6.908350\n",
       "SP                                   26.164983\n",
       "BS                                   41.678720\n",
       "ROP                                  54.287401\n",
       "DTS                                  85.082327\n",
       "DCAL                                 74.469868\n",
       "DRHO                                 15.604638\n",
       "MUDWEIGHT                            72.990344\n",
       "RMIC                                 84.950163\n",
       "ROPA                                 83.569142\n",
       "RXO                                  72.027004\n",
       "FORCE_2020_LITHOFACIES_LITHOLOGY      0.000000\n",
       "FORCE_2020_LITHOFACIES_CONFIDENCE     0.015292\n",
       "dtype: float64"
      ]
     },
     "execution_count": 7,
     "metadata": {},
     "output_type": "execute_result"
    }
   ],
   "source": [
    "train.isna().sum()/len(train) * 100"
   ]
  },
  {
   "cell_type": "code",
   "execution_count": 8,
   "metadata": {},
   "outputs": [
    {
     "data": {
      "text/plain": [
       "WELL           0.000000\n",
       "DEPTH_MD       0.000000\n",
       "X_LOC          0.043133\n",
       "Y_LOC          0.043133\n",
       "Z_LOC          0.043133\n",
       "GROUP          0.000000\n",
       "FORMATION      5.171582\n",
       "CALI           4.126884\n",
       "RSHA          71.417397\n",
       "RMED           0.429137\n",
       "RDEP           0.043133\n",
       "RHOB          12.398930\n",
       "GR             0.000000\n",
       "SGR          100.000000\n",
       "NPHI          23.937391\n",
       "PEF           17.021479\n",
       "DTC            0.601670\n",
       "SP            51.291068\n",
       "BS            51.044698\n",
       "ROP           50.056292\n",
       "DTS           68.403199\n",
       "DCAL          90.119603\n",
       "DRHO          18.444870\n",
       "MUDWEIGHT     85.181963\n",
       "RMIC          91.727224\n",
       "ROPA          59.213662\n",
       "RXO           78.179053\n",
       "dtype: float64"
      ]
     },
     "execution_count": 8,
     "metadata": {},
     "output_type": "execute_result"
    }
   ],
   "source": [
    "test = pd.read_csv('test.csv',sep=';')\n",
    "\n",
    "test.isna().sum()/len(test) * 100"
   ]
  },
  {
   "cell_type": "code",
   "execution_count": 9,
   "metadata": {},
   "outputs": [
    {
     "data": {
      "text/plain": [
       "(1170511, 29)"
      ]
     },
     "execution_count": 9,
     "metadata": {},
     "output_type": "execute_result"
    }
   ],
   "source": [
    "train.shape"
   ]
  },
  {
   "cell_type": "code",
   "execution_count": 10,
   "metadata": {},
   "outputs": [
    {
     "data": {
      "text/plain": [
       "(136786, 27)"
      ]
     },
     "execution_count": 10,
     "metadata": {},
     "output_type": "execute_result"
    }
   ],
   "source": [
    "test.shape"
   ]
  },
  {
   "cell_type": "code",
   "execution_count": 11,
   "metadata": {},
   "outputs": [],
   "source": [
    "#dropping missing values that are greater than 65%\n",
    "\n",
    "\n",
    "def missing_values(df,percentage):\n",
    "    columns = df.columns\n",
    "    percentage_missing = df.isna().sum() * 100 / len(df)\n",
    "    \n",
    "    \n",
    "    missing_values_df = pd.DataFrame({'column_name':columns,\n",
    "                                     'percentage_missing': percentage_missing})\n",
    "    \n",
    "    missing_drop = list(missing_values_df[missing_values_df.percentage_missing > percentage].column_name)\n",
    "    \n",
    "#     df= df.drop(missing_drop,axis=1,inplace=True)\n",
    "    return missing_drop"
   ]
  },
  {
   "cell_type": "code",
   "execution_count": 12,
   "metadata": {},
   "outputs": [
    {
     "data": {
      "text/plain": [
       "['SGR', 'DTS', 'DCAL', 'MUDWEIGHT', 'RMIC', 'ROPA', 'RXO']"
      ]
     },
     "execution_count": 12,
     "metadata": {},
     "output_type": "execute_result"
    }
   ],
   "source": [
    "missing_values(train,70)"
   ]
  },
  {
   "cell_type": "code",
   "execution_count": 13,
   "metadata": {},
   "outputs": [
    {
     "data": {
      "text/plain": [
       "['RSHA', 'SGR', 'DCAL', 'MUDWEIGHT', 'RMIC', 'RXO']"
      ]
     },
     "execution_count": 13,
     "metadata": {},
     "output_type": "execute_result"
    }
   ],
   "source": [
    "missing_values(test,70)"
   ]
  },
  {
   "cell_type": "code",
   "execution_count": 14,
   "metadata": {},
   "outputs": [],
   "source": [
    "train_test=pd.concat([train,test])"
   ]
  },
  {
   "cell_type": "code",
   "execution_count": 15,
   "metadata": {},
   "outputs": [
    {
     "data": {
      "text/html": [
       "<div>\n",
       "<style scoped>\n",
       "    .dataframe tbody tr th:only-of-type {\n",
       "        vertical-align: middle;\n",
       "    }\n",
       "\n",
       "    .dataframe tbody tr th {\n",
       "        vertical-align: top;\n",
       "    }\n",
       "\n",
       "    .dataframe thead th {\n",
       "        text-align: right;\n",
       "    }\n",
       "</style>\n",
       "<table border=\"1\" class=\"dataframe\">\n",
       "  <thead>\n",
       "    <tr style=\"text-align: right;\">\n",
       "      <th></th>\n",
       "      <th>WELL</th>\n",
       "      <th>DEPTH_MD</th>\n",
       "      <th>X_LOC</th>\n",
       "      <th>Y_LOC</th>\n",
       "      <th>Z_LOC</th>\n",
       "      <th>GROUP</th>\n",
       "      <th>FORMATION</th>\n",
       "      <th>CALI</th>\n",
       "      <th>RSHA</th>\n",
       "      <th>RMED</th>\n",
       "      <th>...</th>\n",
       "      <th>ROP</th>\n",
       "      <th>DTS</th>\n",
       "      <th>DCAL</th>\n",
       "      <th>DRHO</th>\n",
       "      <th>MUDWEIGHT</th>\n",
       "      <th>RMIC</th>\n",
       "      <th>ROPA</th>\n",
       "      <th>RXO</th>\n",
       "      <th>FORCE_2020_LITHOFACIES_LITHOLOGY</th>\n",
       "      <th>FORCE_2020_LITHOFACIES_CONFIDENCE</th>\n",
       "    </tr>\n",
       "  </thead>\n",
       "  <tbody>\n",
       "    <tr>\n",
       "      <th>0</th>\n",
       "      <td>15/9-13</td>\n",
       "      <td>494.5280</td>\n",
       "      <td>437641.96875</td>\n",
       "      <td>6470972.5</td>\n",
       "      <td>-469.501831</td>\n",
       "      <td>NORDLAND GP.</td>\n",
       "      <td>NaN</td>\n",
       "      <td>19.480835</td>\n",
       "      <td>NaN</td>\n",
       "      <td>1.611410</td>\n",
       "      <td>...</td>\n",
       "      <td>34.636410</td>\n",
       "      <td>NaN</td>\n",
       "      <td>NaN</td>\n",
       "      <td>-0.574928</td>\n",
       "      <td>NaN</td>\n",
       "      <td>NaN</td>\n",
       "      <td>NaN</td>\n",
       "      <td>NaN</td>\n",
       "      <td>65000.0</td>\n",
       "      <td>1.0</td>\n",
       "    </tr>\n",
       "    <tr>\n",
       "      <th>1</th>\n",
       "      <td>15/9-13</td>\n",
       "      <td>494.6800</td>\n",
       "      <td>437641.96875</td>\n",
       "      <td>6470972.5</td>\n",
       "      <td>-469.653809</td>\n",
       "      <td>NORDLAND GP.</td>\n",
       "      <td>NaN</td>\n",
       "      <td>19.468800</td>\n",
       "      <td>NaN</td>\n",
       "      <td>1.618070</td>\n",
       "      <td>...</td>\n",
       "      <td>34.636410</td>\n",
       "      <td>NaN</td>\n",
       "      <td>NaN</td>\n",
       "      <td>-0.570188</td>\n",
       "      <td>NaN</td>\n",
       "      <td>NaN</td>\n",
       "      <td>NaN</td>\n",
       "      <td>NaN</td>\n",
       "      <td>65000.0</td>\n",
       "      <td>1.0</td>\n",
       "    </tr>\n",
       "    <tr>\n",
       "      <th>2</th>\n",
       "      <td>15/9-13</td>\n",
       "      <td>494.8320</td>\n",
       "      <td>437641.96875</td>\n",
       "      <td>6470972.5</td>\n",
       "      <td>-469.805786</td>\n",
       "      <td>NORDLAND GP.</td>\n",
       "      <td>NaN</td>\n",
       "      <td>19.468800</td>\n",
       "      <td>NaN</td>\n",
       "      <td>1.626459</td>\n",
       "      <td>...</td>\n",
       "      <td>34.779556</td>\n",
       "      <td>NaN</td>\n",
       "      <td>NaN</td>\n",
       "      <td>-0.574245</td>\n",
       "      <td>NaN</td>\n",
       "      <td>NaN</td>\n",
       "      <td>NaN</td>\n",
       "      <td>NaN</td>\n",
       "      <td>65000.0</td>\n",
       "      <td>1.0</td>\n",
       "    </tr>\n",
       "    <tr>\n",
       "      <th>3</th>\n",
       "      <td>15/9-13</td>\n",
       "      <td>494.9840</td>\n",
       "      <td>437641.96875</td>\n",
       "      <td>6470972.5</td>\n",
       "      <td>-469.957794</td>\n",
       "      <td>NORDLAND GP.</td>\n",
       "      <td>NaN</td>\n",
       "      <td>19.459282</td>\n",
       "      <td>NaN</td>\n",
       "      <td>1.621594</td>\n",
       "      <td>...</td>\n",
       "      <td>39.965164</td>\n",
       "      <td>NaN</td>\n",
       "      <td>NaN</td>\n",
       "      <td>-0.586315</td>\n",
       "      <td>NaN</td>\n",
       "      <td>NaN</td>\n",
       "      <td>NaN</td>\n",
       "      <td>NaN</td>\n",
       "      <td>65000.0</td>\n",
       "      <td>1.0</td>\n",
       "    </tr>\n",
       "    <tr>\n",
       "      <th>4</th>\n",
       "      <td>15/9-13</td>\n",
       "      <td>495.1360</td>\n",
       "      <td>437641.96875</td>\n",
       "      <td>6470972.5</td>\n",
       "      <td>-470.109772</td>\n",
       "      <td>NORDLAND GP.</td>\n",
       "      <td>NaN</td>\n",
       "      <td>19.453100</td>\n",
       "      <td>NaN</td>\n",
       "      <td>1.602679</td>\n",
       "      <td>...</td>\n",
       "      <td>57.483765</td>\n",
       "      <td>NaN</td>\n",
       "      <td>NaN</td>\n",
       "      <td>-0.597914</td>\n",
       "      <td>NaN</td>\n",
       "      <td>NaN</td>\n",
       "      <td>NaN</td>\n",
       "      <td>NaN</td>\n",
       "      <td>65000.0</td>\n",
       "      <td>1.0</td>\n",
       "    </tr>\n",
       "    <tr>\n",
       "      <th>...</th>\n",
       "      <td>...</td>\n",
       "      <td>...</td>\n",
       "      <td>...</td>\n",
       "      <td>...</td>\n",
       "      <td>...</td>\n",
       "      <td>...</td>\n",
       "      <td>...</td>\n",
       "      <td>...</td>\n",
       "      <td>...</td>\n",
       "      <td>...</td>\n",
       "      <td>...</td>\n",
       "      <td>...</td>\n",
       "      <td>...</td>\n",
       "      <td>...</td>\n",
       "      <td>...</td>\n",
       "      <td>...</td>\n",
       "      <td>...</td>\n",
       "      <td>...</td>\n",
       "      <td>...</td>\n",
       "      <td>...</td>\n",
       "      <td>...</td>\n",
       "    </tr>\n",
       "    <tr>\n",
       "      <th>136781</th>\n",
       "      <td>35/9-8</td>\n",
       "      <td>3224.3896</td>\n",
       "      <td>536225.93750</td>\n",
       "      <td>6794880.5</td>\n",
       "      <td>-3199.876465</td>\n",
       "      <td>BAAT GP.</td>\n",
       "      <td>Rannoch Fm.</td>\n",
       "      <td>8.497800</td>\n",
       "      <td>NaN</td>\n",
       "      <td>6.231942</td>\n",
       "      <td>...</td>\n",
       "      <td>26.615782</td>\n",
       "      <td>118.669212</td>\n",
       "      <td>NaN</td>\n",
       "      <td>0.063478</td>\n",
       "      <td>NaN</td>\n",
       "      <td>2.618309</td>\n",
       "      <td>33.523922</td>\n",
       "      <td>NaN</td>\n",
       "      <td>NaN</td>\n",
       "      <td>NaN</td>\n",
       "    </tr>\n",
       "    <tr>\n",
       "      <th>136782</th>\n",
       "      <td>35/9-8</td>\n",
       "      <td>3224.5416</td>\n",
       "      <td>536225.93750</td>\n",
       "      <td>6794880.5</td>\n",
       "      <td>-3200.028320</td>\n",
       "      <td>BAAT GP.</td>\n",
       "      <td>Rannoch Fm.</td>\n",
       "      <td>8.497800</td>\n",
       "      <td>NaN</td>\n",
       "      <td>6.038777</td>\n",
       "      <td>...</td>\n",
       "      <td>25.647141</td>\n",
       "      <td>118.468925</td>\n",
       "      <td>NaN</td>\n",
       "      <td>0.056791</td>\n",
       "      <td>NaN</td>\n",
       "      <td>2.620221</td>\n",
       "      <td>32.643795</td>\n",
       "      <td>NaN</td>\n",
       "      <td>NaN</td>\n",
       "      <td>NaN</td>\n",
       "    </tr>\n",
       "    <tr>\n",
       "      <th>136783</th>\n",
       "      <td>35/9-8</td>\n",
       "      <td>3224.6936</td>\n",
       "      <td>536225.93750</td>\n",
       "      <td>6794880.5</td>\n",
       "      <td>-3200.180176</td>\n",
       "      <td>BAAT GP.</td>\n",
       "      <td>Rannoch Fm.</td>\n",
       "      <td>8.497800</td>\n",
       "      <td>NaN</td>\n",
       "      <td>5.503983</td>\n",
       "      <td>...</td>\n",
       "      <td>23.929407</td>\n",
       "      <td>118.163177</td>\n",
       "      <td>NaN</td>\n",
       "      <td>0.002499</td>\n",
       "      <td>NaN</td>\n",
       "      <td>2.629171</td>\n",
       "      <td>31.763380</td>\n",
       "      <td>NaN</td>\n",
       "      <td>NaN</td>\n",
       "      <td>NaN</td>\n",
       "    </tr>\n",
       "    <tr>\n",
       "      <th>136784</th>\n",
       "      <td>35/9-8</td>\n",
       "      <td>3224.8456</td>\n",
       "      <td>536225.93750</td>\n",
       "      <td>6794880.5</td>\n",
       "      <td>-3200.332031</td>\n",
       "      <td>BAAT GP.</td>\n",
       "      <td>Rannoch Fm.</td>\n",
       "      <td>8.497800</td>\n",
       "      <td>NaN</td>\n",
       "      <td>4.895551</td>\n",
       "      <td>...</td>\n",
       "      <td>22.737293</td>\n",
       "      <td>117.655937</td>\n",
       "      <td>NaN</td>\n",
       "      <td>0.003363</td>\n",
       "      <td>NaN</td>\n",
       "      <td>2.521121</td>\n",
       "      <td>30.884350</td>\n",
       "      <td>NaN</td>\n",
       "      <td>NaN</td>\n",
       "      <td>NaN</td>\n",
       "    </tr>\n",
       "    <tr>\n",
       "      <th>136785</th>\n",
       "      <td>35/9-8</td>\n",
       "      <td>3224.9976</td>\n",
       "      <td>536225.93750</td>\n",
       "      <td>6794880.5</td>\n",
       "      <td>-3200.483887</td>\n",
       "      <td>BAAT GP.</td>\n",
       "      <td>Rannoch Fm.</td>\n",
       "      <td>8.497800</td>\n",
       "      <td>NaN</td>\n",
       "      <td>4.564547</td>\n",
       "      <td>...</td>\n",
       "      <td>21.116669</td>\n",
       "      <td>117.002289</td>\n",
       "      <td>NaN</td>\n",
       "      <td>0.001724</td>\n",
       "      <td>NaN</td>\n",
       "      <td>2.356035</td>\n",
       "      <td>29.962900</td>\n",
       "      <td>NaN</td>\n",
       "      <td>NaN</td>\n",
       "      <td>NaN</td>\n",
       "    </tr>\n",
       "  </tbody>\n",
       "</table>\n",
       "<p>1307297 rows × 29 columns</p>\n",
       "</div>"
      ],
      "text/plain": [
       "           WELL   DEPTH_MD         X_LOC      Y_LOC        Z_LOC  \\\n",
       "0       15/9-13   494.5280  437641.96875  6470972.5  -469.501831   \n",
       "1       15/9-13   494.6800  437641.96875  6470972.5  -469.653809   \n",
       "2       15/9-13   494.8320  437641.96875  6470972.5  -469.805786   \n",
       "3       15/9-13   494.9840  437641.96875  6470972.5  -469.957794   \n",
       "4       15/9-13   495.1360  437641.96875  6470972.5  -470.109772   \n",
       "...         ...        ...           ...        ...          ...   \n",
       "136781   35/9-8  3224.3896  536225.93750  6794880.5 -3199.876465   \n",
       "136782   35/9-8  3224.5416  536225.93750  6794880.5 -3200.028320   \n",
       "136783   35/9-8  3224.6936  536225.93750  6794880.5 -3200.180176   \n",
       "136784   35/9-8  3224.8456  536225.93750  6794880.5 -3200.332031   \n",
       "136785   35/9-8  3224.9976  536225.93750  6794880.5 -3200.483887   \n",
       "\n",
       "               GROUP    FORMATION       CALI  RSHA      RMED  ...        ROP  \\\n",
       "0       NORDLAND GP.          NaN  19.480835   NaN  1.611410  ...  34.636410   \n",
       "1       NORDLAND GP.          NaN  19.468800   NaN  1.618070  ...  34.636410   \n",
       "2       NORDLAND GP.          NaN  19.468800   NaN  1.626459  ...  34.779556   \n",
       "3       NORDLAND GP.          NaN  19.459282   NaN  1.621594  ...  39.965164   \n",
       "4       NORDLAND GP.          NaN  19.453100   NaN  1.602679  ...  57.483765   \n",
       "...              ...          ...        ...   ...       ...  ...        ...   \n",
       "136781      BAAT GP.  Rannoch Fm.   8.497800   NaN  6.231942  ...  26.615782   \n",
       "136782      BAAT GP.  Rannoch Fm.   8.497800   NaN  6.038777  ...  25.647141   \n",
       "136783      BAAT GP.  Rannoch Fm.   8.497800   NaN  5.503983  ...  23.929407   \n",
       "136784      BAAT GP.  Rannoch Fm.   8.497800   NaN  4.895551  ...  22.737293   \n",
       "136785      BAAT GP.  Rannoch Fm.   8.497800   NaN  4.564547  ...  21.116669   \n",
       "\n",
       "               DTS  DCAL      DRHO  MUDWEIGHT      RMIC       ROPA  RXO  \\\n",
       "0              NaN   NaN -0.574928        NaN       NaN        NaN  NaN   \n",
       "1              NaN   NaN -0.570188        NaN       NaN        NaN  NaN   \n",
       "2              NaN   NaN -0.574245        NaN       NaN        NaN  NaN   \n",
       "3              NaN   NaN -0.586315        NaN       NaN        NaN  NaN   \n",
       "4              NaN   NaN -0.597914        NaN       NaN        NaN  NaN   \n",
       "...            ...   ...       ...        ...       ...        ...  ...   \n",
       "136781  118.669212   NaN  0.063478        NaN  2.618309  33.523922  NaN   \n",
       "136782  118.468925   NaN  0.056791        NaN  2.620221  32.643795  NaN   \n",
       "136783  118.163177   NaN  0.002499        NaN  2.629171  31.763380  NaN   \n",
       "136784  117.655937   NaN  0.003363        NaN  2.521121  30.884350  NaN   \n",
       "136785  117.002289   NaN  0.001724        NaN  2.356035  29.962900  NaN   \n",
       "\n",
       "        FORCE_2020_LITHOFACIES_LITHOLOGY  FORCE_2020_LITHOFACIES_CONFIDENCE  \n",
       "0                                65000.0                                1.0  \n",
       "1                                65000.0                                1.0  \n",
       "2                                65000.0                                1.0  \n",
       "3                                65000.0                                1.0  \n",
       "4                                65000.0                                1.0  \n",
       "...                                  ...                                ...  \n",
       "136781                               NaN                                NaN  \n",
       "136782                               NaN                                NaN  \n",
       "136783                               NaN                                NaN  \n",
       "136784                               NaN                                NaN  \n",
       "136785                               NaN                                NaN  \n",
       "\n",
       "[1307297 rows x 29 columns]"
      ]
     },
     "execution_count": 15,
     "metadata": {},
     "output_type": "execute_result"
    }
   ],
   "source": [
    "train_test"
   ]
  },
  {
   "cell_type": "code",
   "execution_count": 16,
   "metadata": {},
   "outputs": [
    {
     "data": {
      "text/plain": [
       "['SGR', 'DTS', 'DCAL', 'MUDWEIGHT', 'RMIC', 'ROPA', 'RXO']"
      ]
     },
     "execution_count": 16,
     "metadata": {},
     "output_type": "execute_result"
    }
   ],
   "source": [
    "missing_values(train_test,70)"
   ]
  },
  {
   "cell_type": "code",
   "execution_count": 17,
   "metadata": {},
   "outputs": [],
   "source": [
    "#dropping missing values that are greater than 65%\n",
    "\n",
    "\n",
    "def drop_missing_values(df,percentage):\n",
    "    columns = df.columns\n",
    "    percentage_missing = df.isna().sum() * 100 / len(df)\n",
    "    \n",
    "    \n",
    "    missing_values_df = pd.DataFrame({'column_name':columns,\n",
    "                                     'percentage_missing': percentage_missing})\n",
    "    \n",
    "    missing_drop = list(missing_values_df[missing_values_df.percentage_missing > percentage].column_name)\n",
    "    \n",
    "    df= df.drop(missing_drop,axis=1,inplace=True)\n",
    "    return df"
   ]
  },
  {
   "cell_type": "code",
   "execution_count": 18,
   "metadata": {},
   "outputs": [],
   "source": [
    "drop_missing_values(train_test, 70)"
   ]
  },
  {
   "cell_type": "code",
   "execution_count": 19,
   "metadata": {},
   "outputs": [
    {
     "data": {
      "text/plain": [
       "WELL                                  0.000000\n",
       "DEPTH_MD                              0.000000\n",
       "X_LOC                                 0.828733\n",
       "Y_LOC                                 0.828733\n",
       "Z_LOC                                 0.828733\n",
       "GROUP                                 0.097759\n",
       "FORMATION                            11.020296\n",
       "CALI                                  7.153845\n",
       "RSHA                                 48.768566\n",
       "RMED                                  3.027621\n",
       "RDEP                                  0.847091\n",
       "RHOB                                 13.633398\n",
       "GR                                    0.000000\n",
       "NPHI                                 33.492389\n",
       "PEF                                  39.937520\n",
       "DTC                                   6.248465\n",
       "SP                                   28.793992\n",
       "BS                                   42.658707\n",
       "ROP                                  53.844689\n",
       "DRHO                                 15.901819\n",
       "FORCE_2020_LITHOFACIES_LITHOLOGY     10.463269\n",
       "FORCE_2020_LITHOFACIES_CONFIDENCE    10.476961\n",
       "dtype: float64"
      ]
     },
     "execution_count": 19,
     "metadata": {},
     "output_type": "execute_result"
    }
   ],
   "source": [
    "train_test.isna().sum()/len(train_test) * 100"
   ]
  },
  {
   "cell_type": "code",
   "execution_count": 20,
   "metadata": {},
   "outputs": [
    {
     "data": {
      "text/html": [
       "<div>\n",
       "<style scoped>\n",
       "    .dataframe tbody tr th:only-of-type {\n",
       "        vertical-align: middle;\n",
       "    }\n",
       "\n",
       "    .dataframe tbody tr th {\n",
       "        vertical-align: top;\n",
       "    }\n",
       "\n",
       "    .dataframe thead th {\n",
       "        text-align: right;\n",
       "    }\n",
       "</style>\n",
       "<table border=\"1\" class=\"dataframe\">\n",
       "  <thead>\n",
       "    <tr style=\"text-align: right;\">\n",
       "      <th></th>\n",
       "      <th>DEPTH_MD</th>\n",
       "      <th>X_LOC</th>\n",
       "      <th>Y_LOC</th>\n",
       "      <th>Z_LOC</th>\n",
       "      <th>CALI</th>\n",
       "      <th>RSHA</th>\n",
       "      <th>RMED</th>\n",
       "      <th>RDEP</th>\n",
       "      <th>RHOB</th>\n",
       "      <th>GR</th>\n",
       "      <th>NPHI</th>\n",
       "      <th>PEF</th>\n",
       "      <th>DTC</th>\n",
       "      <th>SP</th>\n",
       "      <th>BS</th>\n",
       "      <th>ROP</th>\n",
       "      <th>DRHO</th>\n",
       "      <th>FORCE_2020_LITHOFACIES_LITHOLOGY</th>\n",
       "      <th>FORCE_2020_LITHOFACIES_CONFIDENCE</th>\n",
       "    </tr>\n",
       "  </thead>\n",
       "  <tbody>\n",
       "    <tr>\n",
       "      <th>count</th>\n",
       "      <td>1.307297e+06</td>\n",
       "      <td>1.296463e+06</td>\n",
       "      <td>1.296463e+06</td>\n",
       "      <td>1.296463e+06</td>\n",
       "      <td>1.213775e+06</td>\n",
       "      <td>669747.000000</td>\n",
       "      <td>1.267717e+06</td>\n",
       "      <td>1.296223e+06</td>\n",
       "      <td>1.129068e+06</td>\n",
       "      <td>1.307297e+06</td>\n",
       "      <td>869452.000000</td>\n",
       "      <td>785195.000000</td>\n",
       "      <td>1.225611e+06</td>\n",
       "      <td>930874.000000</td>\n",
       "      <td>749621.000000</td>\n",
       "      <td>603387.000000</td>\n",
       "      <td>1.099413e+06</td>\n",
       "      <td>1.170511e+06</td>\n",
       "      <td>1.170332e+06</td>\n",
       "    </tr>\n",
       "    <tr>\n",
       "      <th>mean</th>\n",
       "      <td>2.217261e+03</td>\n",
       "      <td>4.837595e+05</td>\n",
       "      <td>6.684115e+06</td>\n",
       "      <td>-2.165874e+03</td>\n",
       "      <td>1.312386e+01</td>\n",
       "      <td>10.253527</td>\n",
       "      <td>4.864279e+00</td>\n",
       "      <td>9.949604e+00</td>\n",
       "      <td>2.289225e+00</td>\n",
       "      <td>7.031829e+01</td>\n",
       "      <td>0.329749</td>\n",
       "      <td>6.289937</td>\n",
       "      <td>1.128723e+02</td>\n",
       "      <td>58.852604</td>\n",
       "      <td>11.844954</td>\n",
       "      <td>124.804861</td>\n",
       "      <td>1.242410e-02</td>\n",
       "      <td>6.138598e+04</td>\n",
       "      <td>1.164258e+00</td>\n",
       "    </tr>\n",
       "    <tr>\n",
       "      <th>std</th>\n",
       "      <td>1.006788e+03</td>\n",
       "      <td>3.512231e+04</td>\n",
       "      <td>1.291890e+05</td>\n",
       "      <td>9.706919e+02</td>\n",
       "      <td>3.744796e+00</td>\n",
       "      <td>97.766267</td>\n",
       "      <td>5.225760e+01</td>\n",
       "      <td>1.080565e+02</td>\n",
       "      <td>2.525733e-01</td>\n",
       "      <td>3.396652e+01</td>\n",
       "      <td>0.129364</td>\n",
       "      <td>10.810816</td>\n",
       "      <td>2.973164e+01</td>\n",
       "      <td>74.220618</td>\n",
       "      <td>3.237016</td>\n",
       "      <td>1450.087274</td>\n",
       "      <td>7.088292e+00</td>\n",
       "      <td>1.389170e+04</td>\n",
       "      <td>4.451180e-01</td>\n",
       "    </tr>\n",
       "    <tr>\n",
       "      <th>min</th>\n",
       "      <td>1.360860e+02</td>\n",
       "      <td>4.232375e+05</td>\n",
       "      <td>6.406641e+06</td>\n",
       "      <td>-5.395563e+03</td>\n",
       "      <td>2.344000e+00</td>\n",
       "      <td>0.000100</td>\n",
       "      <td>-8.418695e-03</td>\n",
       "      <td>3.170056e-02</td>\n",
       "      <td>7.209712e-01</td>\n",
       "      <td>1.092843e-01</td>\n",
       "      <td>-0.035822</td>\n",
       "      <td>0.099718</td>\n",
       "      <td>7.415132e+00</td>\n",
       "      <td>-999.000000</td>\n",
       "      <td>6.000000</td>\n",
       "      <td>-0.117977</td>\n",
       "      <td>-7.429339e+03</td>\n",
       "      <td>3.000000e+04</td>\n",
       "      <td>1.000000e+00</td>\n",
       "    </tr>\n",
       "    <tr>\n",
       "      <th>25%</th>\n",
       "      <td>1.443348e+03</td>\n",
       "      <td>4.544695e+05</td>\n",
       "      <td>6.591330e+06</td>\n",
       "      <td>-2.849464e+03</td>\n",
       "      <td>9.405167e+00</td>\n",
       "      <td>0.853920</td>\n",
       "      <td>9.156386e-01</td>\n",
       "      <td>9.096427e-01</td>\n",
       "      <td>2.094961e+00</td>\n",
       "      <td>4.722087e+01</td>\n",
       "      <td>0.239095</td>\n",
       "      <td>3.389862</td>\n",
       "      <td>8.774293e+01</td>\n",
       "      <td>32.247214</td>\n",
       "      <td>8.500000</td>\n",
       "      <td>6.320163</td>\n",
       "      <td>-8.368648e-03</td>\n",
       "      <td>6.500000e+04</td>\n",
       "      <td>1.000000e+00</td>\n",
       "    </tr>\n",
       "    <tr>\n",
       "      <th>50%</th>\n",
       "      <td>2.113328e+03</td>\n",
       "      <td>4.767682e+05</td>\n",
       "      <td>6.737678e+06</td>\n",
       "      <td>-2.080478e+03</td>\n",
       "      <td>1.252699e+01</td>\n",
       "      <td>1.400541</td>\n",
       "      <td>1.467655e+00</td>\n",
       "      <td>1.460703e+00</td>\n",
       "      <td>2.327247e+00</td>\n",
       "      <td>6.731985e+01</td>\n",
       "      <td>0.323705</td>\n",
       "      <td>4.316627</td>\n",
       "      <td>1.086493e+02</td>\n",
       "      <td>54.781096</td>\n",
       "      <td>12.250001</td>\n",
       "      <td>18.349997</td>\n",
       "      <td>2.569740e-03</td>\n",
       "      <td>6.500000e+04</td>\n",
       "      <td>1.000000e+00</td>\n",
       "    </tr>\n",
       "    <tr>\n",
       "      <th>75%</th>\n",
       "      <td>2.907089e+03</td>\n",
       "      <td>5.189633e+05</td>\n",
       "      <td>6.784908e+06</td>\n",
       "      <td>-1.416135e+03</td>\n",
       "      <td>1.634651e+01</td>\n",
       "      <td>3.065416</td>\n",
       "      <td>2.718655e+00</td>\n",
       "      <td>2.586615e+00</td>\n",
       "      <td>2.494260e+00</td>\n",
       "      <td>8.853503e+01</td>\n",
       "      <td>0.420289</td>\n",
       "      <td>5.998952</td>\n",
       "      <td>1.402602e+02</td>\n",
       "      <td>80.221329</td>\n",
       "      <td>12.250001</td>\n",
       "      <td>34.227924</td>\n",
       "      <td>2.237002e-02</td>\n",
       "      <td>6.500000e+04</td>\n",
       "      <td>1.000000e+00</td>\n",
       "    </tr>\n",
       "    <tr>\n",
       "      <th>max</th>\n",
       "      <td>5.436632e+03</td>\n",
       "      <td>5.726328e+05</td>\n",
       "      <td>6.856661e+06</td>\n",
       "      <td>-1.110860e+02</td>\n",
       "      <td>2.827900e+01</td>\n",
       "      <td>2193.904541</td>\n",
       "      <td>1.988616e+03</td>\n",
       "      <td>1.999887e+03</td>\n",
       "      <td>3.457820e+00</td>\n",
       "      <td>1.076964e+03</td>\n",
       "      <td>0.999570</td>\n",
       "      <td>383.129974</td>\n",
       "      <td>3.204789e+02</td>\n",
       "      <td>526.547302</td>\n",
       "      <td>26.000002</td>\n",
       "      <td>47015.125000</td>\n",
       "      <td>2.836938e+00</td>\n",
       "      <td>9.900000e+04</td>\n",
       "      <td>3.000000e+00</td>\n",
       "    </tr>\n",
       "  </tbody>\n",
       "</table>\n",
       "</div>"
      ],
      "text/plain": [
       "           DEPTH_MD         X_LOC         Y_LOC         Z_LOC          CALI  \\\n",
       "count  1.307297e+06  1.296463e+06  1.296463e+06  1.296463e+06  1.213775e+06   \n",
       "mean   2.217261e+03  4.837595e+05  6.684115e+06 -2.165874e+03  1.312386e+01   \n",
       "std    1.006788e+03  3.512231e+04  1.291890e+05  9.706919e+02  3.744796e+00   \n",
       "min    1.360860e+02  4.232375e+05  6.406641e+06 -5.395563e+03  2.344000e+00   \n",
       "25%    1.443348e+03  4.544695e+05  6.591330e+06 -2.849464e+03  9.405167e+00   \n",
       "50%    2.113328e+03  4.767682e+05  6.737678e+06 -2.080478e+03  1.252699e+01   \n",
       "75%    2.907089e+03  5.189633e+05  6.784908e+06 -1.416135e+03  1.634651e+01   \n",
       "max    5.436632e+03  5.726328e+05  6.856661e+06 -1.110860e+02  2.827900e+01   \n",
       "\n",
       "                RSHA          RMED          RDEP          RHOB            GR  \\\n",
       "count  669747.000000  1.267717e+06  1.296223e+06  1.129068e+06  1.307297e+06   \n",
       "mean       10.253527  4.864279e+00  9.949604e+00  2.289225e+00  7.031829e+01   \n",
       "std        97.766267  5.225760e+01  1.080565e+02  2.525733e-01  3.396652e+01   \n",
       "min         0.000100 -8.418695e-03  3.170056e-02  7.209712e-01  1.092843e-01   \n",
       "25%         0.853920  9.156386e-01  9.096427e-01  2.094961e+00  4.722087e+01   \n",
       "50%         1.400541  1.467655e+00  1.460703e+00  2.327247e+00  6.731985e+01   \n",
       "75%         3.065416  2.718655e+00  2.586615e+00  2.494260e+00  8.853503e+01   \n",
       "max      2193.904541  1.988616e+03  1.999887e+03  3.457820e+00  1.076964e+03   \n",
       "\n",
       "                NPHI            PEF           DTC             SP  \\\n",
       "count  869452.000000  785195.000000  1.225611e+06  930874.000000   \n",
       "mean        0.329749       6.289937  1.128723e+02      58.852604   \n",
       "std         0.129364      10.810816  2.973164e+01      74.220618   \n",
       "min        -0.035822       0.099718  7.415132e+00    -999.000000   \n",
       "25%         0.239095       3.389862  8.774293e+01      32.247214   \n",
       "50%         0.323705       4.316627  1.086493e+02      54.781096   \n",
       "75%         0.420289       5.998952  1.402602e+02      80.221329   \n",
       "max         0.999570     383.129974  3.204789e+02     526.547302   \n",
       "\n",
       "                  BS            ROP          DRHO  \\\n",
       "count  749621.000000  603387.000000  1.099413e+06   \n",
       "mean       11.844954     124.804861  1.242410e-02   \n",
       "std         3.237016    1450.087274  7.088292e+00   \n",
       "min         6.000000      -0.117977 -7.429339e+03   \n",
       "25%         8.500000       6.320163 -8.368648e-03   \n",
       "50%        12.250001      18.349997  2.569740e-03   \n",
       "75%        12.250001      34.227924  2.237002e-02   \n",
       "max        26.000002   47015.125000  2.836938e+00   \n",
       "\n",
       "       FORCE_2020_LITHOFACIES_LITHOLOGY  FORCE_2020_LITHOFACIES_CONFIDENCE  \n",
       "count                      1.170511e+06                       1.170332e+06  \n",
       "mean                       6.138598e+04                       1.164258e+00  \n",
       "std                        1.389170e+04                       4.451180e-01  \n",
       "min                        3.000000e+04                       1.000000e+00  \n",
       "25%                        6.500000e+04                       1.000000e+00  \n",
       "50%                        6.500000e+04                       1.000000e+00  \n",
       "75%                        6.500000e+04                       1.000000e+00  \n",
       "max                        9.900000e+04                       3.000000e+00  "
      ]
     },
     "execution_count": 20,
     "metadata": {},
     "output_type": "execute_result"
    }
   ],
   "source": [
    "train_test.describe()"
   ]
  },
  {
   "cell_type": "code",
   "execution_count": 21,
   "metadata": {},
   "outputs": [
    {
     "data": {
      "text/plain": [
       "WELL                                  object\n",
       "DEPTH_MD                             float64\n",
       "X_LOC                                float64\n",
       "Y_LOC                                float64\n",
       "Z_LOC                                float64\n",
       "GROUP                                 object\n",
       "FORMATION                             object\n",
       "CALI                                 float64\n",
       "RSHA                                 float64\n",
       "RMED                                 float64\n",
       "RDEP                                 float64\n",
       "RHOB                                 float64\n",
       "GR                                   float64\n",
       "NPHI                                 float64\n",
       "PEF                                  float64\n",
       "DTC                                  float64\n",
       "SP                                   float64\n",
       "BS                                   float64\n",
       "ROP                                  float64\n",
       "DRHO                                 float64\n",
       "FORCE_2020_LITHOFACIES_LITHOLOGY     float64\n",
       "FORCE_2020_LITHOFACIES_CONFIDENCE    float64\n",
       "dtype: object"
      ]
     },
     "execution_count": 21,
     "metadata": {},
     "output_type": "execute_result"
    }
   ],
   "source": [
    "train_test.dtypes"
   ]
  },
  {
   "cell_type": "code",
   "execution_count": 22,
   "metadata": {},
   "outputs": [],
   "source": [
    "cat=[]\n",
    "\n",
    "for i in train_test.columns:\n",
    "    if train_test[i].dtypes== 'object' and train_test[i].isna().sum() > 1:cat.append(i)"
   ]
  },
  {
   "cell_type": "code",
   "execution_count": 23,
   "metadata": {},
   "outputs": [],
   "source": [
    "def cat_missing(listOfCat,df):\n",
    "    for i in listOfCat:\n",
    "        df[i].fillna(train[i].mode()[0], inplace=True)\n",
    "    print(df[i].isna().sum())\n",
    "        \n",
    "        \n",
    "    "
   ]
  },
  {
   "cell_type": "code",
   "execution_count": 24,
   "metadata": {},
   "outputs": [
    {
     "name": "stdout",
     "output_type": "stream",
     "text": [
      "0\n"
     ]
    }
   ],
   "source": [
    "cat_missing(cat,train_test)"
   ]
  },
  {
   "cell_type": "code",
   "execution_count": 25,
   "metadata": {},
   "outputs": [
    {
     "data": {
      "text/plain": [
       "WELL                                  0.000000\n",
       "DEPTH_MD                              0.000000\n",
       "X_LOC                                 0.828733\n",
       "Y_LOC                                 0.828733\n",
       "Z_LOC                                 0.828733\n",
       "GROUP                                 0.000000\n",
       "FORMATION                             0.000000\n",
       "CALI                                  7.153845\n",
       "RSHA                                 48.768566\n",
       "RMED                                  3.027621\n",
       "RDEP                                  0.847091\n",
       "RHOB                                 13.633398\n",
       "GR                                    0.000000\n",
       "NPHI                                 33.492389\n",
       "PEF                                  39.937520\n",
       "DTC                                   6.248465\n",
       "SP                                   28.793992\n",
       "BS                                   42.658707\n",
       "ROP                                  53.844689\n",
       "DRHO                                 15.901819\n",
       "FORCE_2020_LITHOFACIES_LITHOLOGY     10.463269\n",
       "FORCE_2020_LITHOFACIES_CONFIDENCE    10.476961\n",
       "dtype: float64"
      ]
     },
     "execution_count": 25,
     "metadata": {},
     "output_type": "execute_result"
    }
   ],
   "source": [
    "train_test.isna().sum()/len(train_test) * 100"
   ]
  },
  {
   "cell_type": "code",
   "execution_count": 26,
   "metadata": {},
   "outputs": [],
   "source": [
    "train_test1 = train_test.copy()"
   ]
  },
  {
   "cell_type": "code",
   "execution_count": 27,
   "metadata": {},
   "outputs": [],
   "source": [
    "# categories=[]\n",
    "\n",
    "# for i in train_test1.columns:\n",
    "    \n",
    "#     if train_test1[i].dtypes== 'object':\n",
    "        \n",
    "#         categories.append(i) \n",
    "#         train_test1.drop([i],inplace =True,axis =1)\n",
    "    \n",
    "        \n"
   ]
  },
  {
   "cell_type": "code",
   "execution_count": 28,
   "metadata": {},
   "outputs": [
    {
     "data": {
      "text/plain": [
       "WELL                                  object\n",
       "DEPTH_MD                             float64\n",
       "X_LOC                                float64\n",
       "Y_LOC                                float64\n",
       "Z_LOC                                float64\n",
       "GROUP                                 object\n",
       "FORMATION                             object\n",
       "CALI                                 float64\n",
       "RSHA                                 float64\n",
       "RMED                                 float64\n",
       "RDEP                                 float64\n",
       "RHOB                                 float64\n",
       "GR                                   float64\n",
       "NPHI                                 float64\n",
       "PEF                                  float64\n",
       "DTC                                  float64\n",
       "SP                                   float64\n",
       "BS                                   float64\n",
       "ROP                                  float64\n",
       "DRHO                                 float64\n",
       "FORCE_2020_LITHOFACIES_LITHOLOGY     float64\n",
       "FORCE_2020_LITHOFACIES_CONFIDENCE    float64\n",
       "dtype: object"
      ]
     },
     "execution_count": 28,
     "metadata": {},
     "output_type": "execute_result"
    }
   ],
   "source": [
    "train_test1.dtypes"
   ]
  },
  {
   "cell_type": "code",
   "execution_count": null,
   "metadata": {},
   "outputs": [],
   "source": []
  },
  {
   "cell_type": "code",
   "execution_count": 29,
   "metadata": {},
   "outputs": [],
   "source": [
    "def num_missing(df):\n",
    "    num=[i for i in df.columns if df[i].dtype == 'float64']\n",
    "    for i in num:\n",
    "        df[i].fillna(train[i].mean(), inplace=True)\n",
    "    print(df[i].isna().sum())\n",
    "        \n",
    "        \n",
    "    "
   ]
  },
  {
   "cell_type": "code",
   "execution_count": 30,
   "metadata": {},
   "outputs": [
    {
     "name": "stdout",
     "output_type": "stream",
     "text": [
      "0\n"
     ]
    }
   ],
   "source": [
    "num_missing(train_test1)"
   ]
  },
  {
   "cell_type": "code",
   "execution_count": 31,
   "metadata": {},
   "outputs": [
    {
     "data": {
      "text/plain": [
       "WELL                                 0\n",
       "DEPTH_MD                             0\n",
       "X_LOC                                0\n",
       "Y_LOC                                0\n",
       "Z_LOC                                0\n",
       "GROUP                                0\n",
       "FORMATION                            0\n",
       "CALI                                 0\n",
       "RSHA                                 0\n",
       "RMED                                 0\n",
       "RDEP                                 0\n",
       "RHOB                                 0\n",
       "GR                                   0\n",
       "NPHI                                 0\n",
       "PEF                                  0\n",
       "DTC                                  0\n",
       "SP                                   0\n",
       "BS                                   0\n",
       "ROP                                  0\n",
       "DRHO                                 0\n",
       "FORCE_2020_LITHOFACIES_LITHOLOGY     0\n",
       "FORCE_2020_LITHOFACIES_CONFIDENCE    0\n",
       "dtype: int64"
      ]
     },
     "execution_count": 31,
     "metadata": {},
     "output_type": "execute_result"
    }
   ],
   "source": [
    "train_test1.isna().sum()"
   ]
  },
  {
   "cell_type": "code",
   "execution_count": 32,
   "metadata": {},
   "outputs": [],
   "source": [
    "lithology_numbers = {30000: 0,\n",
    "                 65030: 1,\n",
    "                 65000: 2,\n",
    "                 80000: 3,\n",
    "                 74000: 4,\n",
    "                 70000: 5,\n",
    "                 70032: 6,\n",
    "                 88000: 7,\n",
    "                 86000: 8,\n",
    "                 99000: 9,\n",
    "                 90000: 10,\n",
    "                 93000: 11}"
   ]
  },
  {
   "cell_type": "code",
   "execution_count": 33,
   "metadata": {},
   "outputs": [],
   "source": [
    "train_test1[\"FORCE_2020_LITHOFACIES_LITHOLOGY\"]=train_test1[\"FORCE_2020_LITHOFACIES_LITHOLOGY\"].map(lithology_numbers)"
   ]
  },
  {
   "cell_type": "code",
   "execution_count": 34,
   "metadata": {},
   "outputs": [
    {
     "data": {
      "text/plain": [
       "2.0     720803\n",
       "0.0     168937\n",
       "1.0     150455\n",
       "5.0      56320\n",
       "3.0      33329\n",
       "9.0      15245\n",
       "6.0      10513\n",
       "7.0       8213\n",
       "10.0      3820\n",
       "4.0       1688\n",
       "8.0       1085\n",
       "11.0       103\n",
       "Name: FORCE_2020_LITHOFACIES_LITHOLOGY, dtype: int64"
      ]
     },
     "execution_count": 34,
     "metadata": {},
     "output_type": "execute_result"
    }
   ],
   "source": [
    "train_test1[\"FORCE_2020_LITHOFACIES_LITHOLOGY\"].value_counts()"
   ]
  },
  {
   "cell_type": "code",
   "execution_count": 35,
   "metadata": {},
   "outputs": [],
   "source": [
    "train_test1.drop(['WELL','FORCE_2020_LITHOFACIES_CONFIDENCE'],axis=1, inplace=True)"
   ]
  },
  {
   "cell_type": "code",
   "execution_count": 36,
   "metadata": {},
   "outputs": [
    {
     "data": {
      "text/plain": [
       "Index(['DEPTH_MD', 'X_LOC', 'Y_LOC', 'Z_LOC', 'GROUP', 'FORMATION', 'CALI',\n",
       "       'RSHA', 'RMED', 'RDEP', 'RHOB', 'GR', 'NPHI', 'PEF', 'DTC', 'SP', 'BS',\n",
       "       'ROP', 'DRHO', 'FORCE_2020_LITHOFACIES_LITHOLOGY'],\n",
       "      dtype='object')"
      ]
     },
     "execution_count": 36,
     "metadata": {},
     "output_type": "execute_result"
    }
   ],
   "source": [
    "train_test1.columns"
   ]
  },
  {
   "cell_type": "code",
   "execution_count": 37,
   "metadata": {},
   "outputs": [
    {
     "data": {
      "text/plain": [
       "Utsira Fm.               338693\n",
       "Kyrre Fm.                121586\n",
       "Lista Fm.                 75796\n",
       "Heather Fm.               68627\n",
       "Skade Fm.                 50530\n",
       "                          ...  \n",
       "Intra Balder Fm. Sst.       236\n",
       "Broom Fm.                   235\n",
       "Farsund Fm.                 171\n",
       "Flekkefjord Fm.             118\n",
       "Egersund Fm.                105\n",
       "Name: FORMATION, Length: 69, dtype: int64"
      ]
     },
     "execution_count": 37,
     "metadata": {},
     "output_type": "execute_result"
    }
   ],
   "source": [
    "train_test1.FORMATION.value_counts()"
   ]
  },
  {
   "cell_type": "code",
   "execution_count": 38,
   "metadata": {},
   "outputs": [
    {
     "data": {
      "text/plain": [
       "HORDALAND GP.       321582\n",
       "SHETLAND GP.        280712\n",
       "ROGALAND GP.        143553\n",
       "VIKING GP.          137417\n",
       "DUNLIN GP.          134475\n",
       "NORDLAND GP.        126095\n",
       "CROMER KNOLL GP.     58685\n",
       "BAAT GP.             42105\n",
       "VESTLAND GP.         28798\n",
       "HEGRE GP.            14390\n",
       "ZECHSTEIN GP.        12363\n",
       "BOKNFJORD GP.         3125\n",
       "ROTLIEGENDES GP.      2792\n",
       "TYNE GP.              1205\n",
       "Name: GROUP, dtype: int64"
      ]
     },
     "execution_count": 38,
     "metadata": {},
     "output_type": "execute_result"
    }
   ],
   "source": [
    "train_test1.GROUP.value_counts()"
   ]
  },
  {
   "cell_type": "code",
   "execution_count": 39,
   "metadata": {},
   "outputs": [],
   "source": [
    "cat=[]\n",
    "\n",
    "for i in train_test1.columns:\n",
    "    if train_test1[i].dtypes== 'object':cat.append(i)"
   ]
  },
  {
   "cell_type": "code",
   "execution_count": 40,
   "metadata": {},
   "outputs": [
    {
     "data": {
      "text/plain": [
       "['GROUP', 'FORMATION']"
      ]
     },
     "execution_count": 40,
     "metadata": {},
     "output_type": "execute_result"
    }
   ],
   "source": [
    "cat"
   ]
  },
  {
   "cell_type": "code",
   "execution_count": 41,
   "metadata": {},
   "outputs": [],
   "source": [
    "del(cat[1])"
   ]
  },
  {
   "cell_type": "code",
   "execution_count": 42,
   "metadata": {},
   "outputs": [
    {
     "data": {
      "text/plain": [
       "['GROUP']"
      ]
     },
     "execution_count": 42,
     "metadata": {},
     "output_type": "execute_result"
    }
   ],
   "source": [
    "cat"
   ]
  },
  {
   "cell_type": "code",
   "execution_count": 43,
   "metadata": {},
   "outputs": [],
   "source": [
    "from sklearn.preprocessing import LabelEncoder\n",
    "\n",
    "\n",
    "\n",
    "le=LabelEncoder()"
   ]
  },
  {
   "cell_type": "code",
   "execution_count": 44,
   "metadata": {},
   "outputs": [],
   "source": [
    "train_test1['GROUP']= le.fit_transform(train_test1['GROUP'])"
   ]
  },
  {
   "cell_type": "code",
   "execution_count": 45,
   "metadata": {},
   "outputs": [
    {
     "data": {
      "text/plain": [
       "5     321582\n",
       "9     280712\n",
       "7     143553\n",
       "12    137417\n",
       "3     134475\n",
       "6     126095\n",
       "2      58685\n",
       "0      42105\n",
       "11     28798\n",
       "4      14390\n",
       "13     12363\n",
       "1       3125\n",
       "8       2792\n",
       "10      1205\n",
       "Name: GROUP, dtype: int64"
      ]
     },
     "execution_count": 45,
     "metadata": {},
     "output_type": "execute_result"
    }
   ],
   "source": [
    "train_test1.GROUP.value_counts()"
   ]
  },
  {
   "cell_type": "code",
   "execution_count": 46,
   "metadata": {},
   "outputs": [],
   "source": [
    "fe= train_test1.groupby('FORMATION').size()/len(train_test1)"
   ]
  },
  {
   "cell_type": "code",
   "execution_count": 47,
   "metadata": {},
   "outputs": [],
   "source": [
    "train_test1.FORMATION=train_test1.FORMATION.map(fe)"
   ]
  },
  {
   "cell_type": "code",
   "execution_count": 48,
   "metadata": {},
   "outputs": [
    {
     "data": {
      "text/plain": [
       "0.259079    338693\n",
       "0.093006    121586\n",
       "0.057979     75796\n",
       "0.052495     68627\n",
       "0.038652     50530\n",
       "             ...  \n",
       "0.000181       236\n",
       "0.000180       235\n",
       "0.000131       171\n",
       "0.000090       118\n",
       "0.000080       105\n",
       "Name: FORMATION, Length: 69, dtype: int64"
      ]
     },
     "execution_count": 48,
     "metadata": {},
     "output_type": "execute_result"
    }
   ],
   "source": [
    "train_test1.FORMATION.value_counts()"
   ]
  },
  {
   "cell_type": "code",
   "execution_count": 49,
   "metadata": {},
   "outputs": [],
   "source": [
    "rob_train_test = train_test1.copy()"
   ]
  },
  {
   "cell_type": "code",
   "execution_count": 50,
   "metadata": {},
   "outputs": [
    {
     "data": {
      "text/plain": [
       "array([[<matplotlib.axes._subplots.AxesSubplot object at 0x7ff303fe9c10>,\n",
       "        <matplotlib.axes._subplots.AxesSubplot object at 0x7ff30410aa90>,\n",
       "        <matplotlib.axes._subplots.AxesSubplot object at 0x7ff2e96abf10>,\n",
       "        <matplotlib.axes._subplots.AxesSubplot object at 0x7ff2e966c750>],\n",
       "       [<matplotlib.axes._subplots.AxesSubplot object at 0x7ff2e961ff50>,\n",
       "        <matplotlib.axes._subplots.AxesSubplot object at 0x7ff2e95e0790>,\n",
       "        <matplotlib.axes._subplots.AxesSubplot object at 0x7ff2e9614f90>,\n",
       "        <matplotlib.axes._subplots.AxesSubplot object at 0x7ff2e95d67d0>],\n",
       "       [<matplotlib.axes._subplots.AxesSubplot object at 0x7ff2e9561350>,\n",
       "        <matplotlib.axes._subplots.AxesSubplot object at 0x7ff2e9592cd0>,\n",
       "        <matplotlib.axes._subplots.AxesSubplot object at 0x7ff2e94fbf90>,\n",
       "        <matplotlib.axes._subplots.AxesSubplot object at 0x7ff2e94be850>],\n",
       "       [<matplotlib.axes._subplots.AxesSubplot object at 0x7ff2e947cbd0>,\n",
       "        <matplotlib.axes._subplots.AxesSubplot object at 0x7ff2e9433890>,\n",
       "        <matplotlib.axes._subplots.AxesSubplot object at 0x7ff2e93f0c10>,\n",
       "        <matplotlib.axes._subplots.AxesSubplot object at 0x7ff2e93a88d0>],\n",
       "       [<matplotlib.axes._subplots.AxesSubplot object at 0x7ff2e9363c50>,\n",
       "        <matplotlib.axes._subplots.AxesSubplot object at 0x7ff2e931a910>,\n",
       "        <matplotlib.axes._subplots.AxesSubplot object at 0x7ff2e9357c90>,\n",
       "        <matplotlib.axes._subplots.AxesSubplot object at 0x7ff2e930f950>]],\n",
       "      dtype=object)"
      ]
     },
     "execution_count": 50,
     "metadata": {},
     "output_type": "execute_result"
    },
    {
     "data": {
      "image/png": "[encoded data removed]",
      "text/plain": [
       "<Figure size 1800x1440 with 20 Axes>"
      ]
     },
     "metadata": {
      "needs_background": "light"
     },
     "output_type": "display_data"
    }
   ],
   "source": [
    "rob_train_test.hist(bins=50,figsize=(25,20))"
   ]
  },
  {
   "cell_type": "code",
   "execution_count": 51,
   "metadata": {},
   "outputs": [],
   "source": [
    "# def outliers(data):\n",
    "#     import math\n",
    "#     for i in data.columns:\n",
    "        \n",
    "        \n",
    "#         #set upper and lower\n",
    "#         random_data_std = np.std(data[i])\n",
    "#         random_data_mean = np.mean(data[i])\n",
    "#         anomaly_cut_off = random_data_std * 3\n",
    "    \n",
    "#         lower_limit  = random_data_mean - anomaly_cut_off \n",
    "#         upper_limit = random_data_mean + anomaly_cut_off\n",
    "#         print(f'The Lower limit for {i} is ',lower_limit)\n",
    "        \n",
    "        \n",
    "#         #generating the outlier \n",
    "        \n",
    "#         for "
   ]
  },
  {
   "cell_type": "code",
   "execution_count": 52,
   "metadata": {},
   "outputs": [],
   "source": [
    "# outliers(train_test1)"
   ]
  },
  {
   "cell_type": "code",
   "execution_count": 53,
   "metadata": {},
   "outputs": [],
   "source": [
    "# import seaborn as sns \n",
    "# for i in train_test1.columns:\n",
    "#     sns.boxplot(data=train_test1[i])"
   ]
  },
  {
   "cell_type": "code",
   "execution_count": null,
   "metadata": {},
   "outputs": [],
   "source": []
  },
  {
   "cell_type": "code",
   "execution_count": 54,
   "metadata": {},
   "outputs": [],
   "source": [
    "from sklearn.preprocessing import StandardScaler\n",
    "\n",
    "\n",
    "scale= StandardScaler()"
   ]
  },
  {
   "cell_type": "code",
   "execution_count": 55,
   "metadata": {},
   "outputs": [],
   "source": [
    "scaled_tt1= scale.fit_transform(train_test1)"
   ]
  },
  {
   "cell_type": "code",
   "execution_count": 56,
   "metadata": {},
   "outputs": [],
   "source": [
    "sc_train_test =pd.DataFrame(scaled_tt1,columns=train_test1.columns)"
   ]
  },
  {
   "cell_type": "code",
   "execution_count": 57,
   "metadata": {},
   "outputs": [],
   "source": [
    "from sklearn.preprocessing import RobustScaler\n",
    "\n",
    "\n",
    "rob_scale= RobustScaler()"
   ]
  },
  {
   "cell_type": "code",
   "execution_count": 58,
   "metadata": {},
   "outputs": [],
   "source": [
    "rob_scaled= rob_scale.fit_transform(rob_train_test)"
   ]
  },
  {
   "cell_type": "code",
   "execution_count": 59,
   "metadata": {},
   "outputs": [],
   "source": [
    "rob_sc_train_test =pd.DataFrame(rob_scaled,columns=train_test1.columns)"
   ]
  },
  {
   "cell_type": "code",
   "execution_count": 60,
   "metadata": {},
   "outputs": [
    {
     "data": {
      "text/html": [
       "<div>\n",
       "<style scoped>\n",
       "    .dataframe tbody tr th:only-of-type {\n",
       "        vertical-align: middle;\n",
       "    }\n",
       "\n",
       "    .dataframe tbody tr th {\n",
       "        vertical-align: top;\n",
       "    }\n",
       "\n",
       "    .dataframe thead th {\n",
       "        text-align: right;\n",
       "    }\n",
       "</style>\n",
       "<table border=\"1\" class=\"dataframe\">\n",
       "  <thead>\n",
       "    <tr style=\"text-align: right;\">\n",
       "      <th></th>\n",
       "      <th>DEPTH_MD</th>\n",
       "      <th>X_LOC</th>\n",
       "      <th>Y_LOC</th>\n",
       "      <th>Z_LOC</th>\n",
       "      <th>GROUP</th>\n",
       "      <th>FORMATION</th>\n",
       "      <th>CALI</th>\n",
       "      <th>RSHA</th>\n",
       "      <th>RMED</th>\n",
       "      <th>RDEP</th>\n",
       "      <th>RHOB</th>\n",
       "      <th>GR</th>\n",
       "      <th>NPHI</th>\n",
       "      <th>PEF</th>\n",
       "      <th>DTC</th>\n",
       "      <th>SP</th>\n",
       "      <th>BS</th>\n",
       "      <th>ROP</th>\n",
       "      <th>DRHO</th>\n",
       "      <th>FORCE_2020_LITHOFACIES_LITHOLOGY</th>\n",
       "    </tr>\n",
       "  </thead>\n",
       "  <tbody>\n",
       "    <tr>\n",
       "      <th>0</th>\n",
       "      <td>-1.105933</td>\n",
       "      <td>-0.614031</td>\n",
       "      <td>-1.390678</td>\n",
       "      <td>1.142035</td>\n",
       "      <td>0.0</td>\n",
       "      <td>0.920005</td>\n",
       "      <td>1.210799</td>\n",
       "      <td>0.0</td>\n",
       "      <td>0.047453</td>\n",
       "      <td>0.189955</td>\n",
       "      <td>-1.166438</td>\n",
       "      <td>0.311782</td>\n",
       "      <td>0.0</td>\n",
       "      <td>6.237092</td>\n",
       "      <td>0.972360</td>\n",
       "      <td>-1.441543</td>\n",
       "      <td>0.0</td>\n",
       "      <td>-0.880254</td>\n",
       "      <td>-26.109646</td>\n",
       "      <td>0.0</td>\n",
       "    </tr>\n",
       "    <tr>\n",
       "      <th>1</th>\n",
       "      <td>-1.105829</td>\n",
       "      <td>-0.614031</td>\n",
       "      <td>-1.390678</td>\n",
       "      <td>1.141928</td>\n",
       "      <td>0.0</td>\n",
       "      <td>0.920005</td>\n",
       "      <td>1.208662</td>\n",
       "      <td>0.0</td>\n",
       "      <td>0.050611</td>\n",
       "      <td>0.188194</td>\n",
       "      <td>-1.150118</td>\n",
       "      <td>0.289079</td>\n",
       "      <td>0.0</td>\n",
       "      <td>5.582239</td>\n",
       "      <td>0.961818</td>\n",
       "      <td>-1.470716</td>\n",
       "      <td>0.0</td>\n",
       "      <td>-0.880254</td>\n",
       "      <td>-25.897261</td>\n",
       "      <td>0.0</td>\n",
       "    </tr>\n",
       "    <tr>\n",
       "      <th>2</th>\n",
       "      <td>-1.105725</td>\n",
       "      <td>-0.614031</td>\n",
       "      <td>-1.390678</td>\n",
       "      <td>1.141821</td>\n",
       "      <td>0.0</td>\n",
       "      <td>0.920005</td>\n",
       "      <td>1.208662</td>\n",
       "      <td>0.0</td>\n",
       "      <td>0.054589</td>\n",
       "      <td>0.191143</td>\n",
       "      <td>-1.130534</td>\n",
       "      <td>0.181588</td>\n",
       "      <td>0.0</td>\n",
       "      <td>6.953306</td>\n",
       "      <td>0.953231</td>\n",
       "      <td>-1.469869</td>\n",
       "      <td>0.0</td>\n",
       "      <td>-0.879027</td>\n",
       "      <td>-26.079062</td>\n",
       "      <td>0.0</td>\n",
       "    </tr>\n",
       "    <tr>\n",
       "      <th>3</th>\n",
       "      <td>-1.105621</td>\n",
       "      <td>-0.614031</td>\n",
       "      <td>-1.390678</td>\n",
       "      <td>1.141714</td>\n",
       "      <td>0.0</td>\n",
       "      <td>0.920005</td>\n",
       "      <td>1.206971</td>\n",
       "      <td>0.0</td>\n",
       "      <td>0.052282</td>\n",
       "      <td>0.191597</td>\n",
       "      <td>-1.143950</td>\n",
       "      <td>0.134556</td>\n",
       "      <td>0.0</td>\n",
       "      <td>11.055769</td>\n",
       "      <td>0.952748</td>\n",
       "      <td>-1.474861</td>\n",
       "      <td>0.0</td>\n",
       "      <td>-0.834595</td>\n",
       "      <td>-26.619975</td>\n",
       "      <td>0.0</td>\n",
       "    </tr>\n",
       "    <tr>\n",
       "      <th>4</th>\n",
       "      <td>-1.105518</td>\n",
       "      <td>-0.614031</td>\n",
       "      <td>-1.390678</td>\n",
       "      <td>1.141607</td>\n",
       "      <td>0.0</td>\n",
       "      <td>0.920005</td>\n",
       "      <td>1.205873</td>\n",
       "      <td>0.0</td>\n",
       "      <td>0.043312</td>\n",
       "      <td>0.187995</td>\n",
       "      <td>-1.178520</td>\n",
       "      <td>0.106726</td>\n",
       "      <td>0.0</td>\n",
       "      <td>13.749492</td>\n",
       "      <td>0.952326</td>\n",
       "      <td>-1.462229</td>\n",
       "      <td>0.0</td>\n",
       "      <td>-0.684487</td>\n",
       "      <td>-27.139747</td>\n",
       "      <td>0.0</td>\n",
       "    </tr>\n",
       "  </tbody>\n",
       "</table>\n",
       "</div>"
      ],
      "text/plain": [
       "   DEPTH_MD     X_LOC     Y_LOC     Z_LOC  GROUP  FORMATION      CALI  RSHA  \\\n",
       "0 -1.105933 -0.614031 -1.390678  1.142035    0.0   0.920005  1.210799   0.0   \n",
       "1 -1.105829 -0.614031 -1.390678  1.141928    0.0   0.920005  1.208662   0.0   \n",
       "2 -1.105725 -0.614031 -1.390678  1.141821    0.0   0.920005  1.208662   0.0   \n",
       "3 -1.105621 -0.614031 -1.390678  1.141714    0.0   0.920005  1.206971   0.0   \n",
       "4 -1.105518 -0.614031 -1.390678  1.141607    0.0   0.920005  1.205873   0.0   \n",
       "\n",
       "       RMED      RDEP      RHOB        GR  NPHI        PEF       DTC  \\\n",
       "0  0.047453  0.189955 -1.166438  0.311782   0.0   6.237092  0.972360   \n",
       "1  0.050611  0.188194 -1.150118  0.289079   0.0   5.582239  0.961818   \n",
       "2  0.054589  0.191143 -1.130534  0.181588   0.0   6.953306  0.953231   \n",
       "3  0.052282  0.191597 -1.143950  0.134556   0.0  11.055769  0.952748   \n",
       "4  0.043312  0.187995 -1.178520  0.106726   0.0  13.749492  0.952326   \n",
       "\n",
       "         SP   BS       ROP       DRHO  FORCE_2020_LITHOFACIES_LITHOLOGY  \n",
       "0 -1.441543  0.0 -0.880254 -26.109646                               0.0  \n",
       "1 -1.470716  0.0 -0.880254 -25.897261                               0.0  \n",
       "2 -1.469869  0.0 -0.879027 -26.079062                               0.0  \n",
       "3 -1.474861  0.0 -0.834595 -26.619975                               0.0  \n",
       "4 -1.462229  0.0 -0.684487 -27.139747                               0.0  "
      ]
     },
     "execution_count": 60,
     "metadata": {},
     "output_type": "execute_result"
    }
   ],
   "source": [
    "rob_sc_train_test.head()"
   ]
  },
  {
   "cell_type": "code",
   "execution_count": 61,
   "metadata": {},
   "outputs": [
    {
     "data": {
      "text/plain": [
       "array([[<matplotlib.axes._subplots.AxesSubplot object at 0x7ff2e840a9d0>,\n",
       "        <matplotlib.axes._subplots.AxesSubplot object at 0x7ff2e8454910>,\n",
       "        <matplotlib.axes._subplots.AxesSubplot object at 0x7ff2e8243c10>,\n",
       "        <matplotlib.axes._subplots.AxesSubplot object at 0x7ff2e82568d0>],\n",
       "       [<matplotlib.axes._subplots.AxesSubplot object at 0x7ff2e69eac10>,\n",
       "        <matplotlib.axes._subplots.AxesSubplot object at 0x7ff2e69fd8d0>,\n",
       "        <matplotlib.axes._subplots.AxesSubplot object at 0x7ff2e6a09dd0>,\n",
       "        <matplotlib.axes._subplots.AxesSubplot object at 0x7ff2e69c5610>],\n",
       "       [<matplotlib.axes._subplots.AxesSubplot object at 0x7ff2e69ce190>,\n",
       "        <matplotlib.axes._subplots.AxesSubplot object at 0x7ff2e697eb10>,\n",
       "        <matplotlib.axes._subplots.AxesSubplot object at 0x7ff2e68e3e50>,\n",
       "        <matplotlib.axes._subplots.AxesSubplot object at 0x7ff2e68a0690>],\n",
       "       [<matplotlib.axes._subplots.AxesSubplot object at 0x7ff2e68d0e90>,\n",
       "        <matplotlib.axes._subplots.AxesSubplot object at 0x7ff2e68936d0>,\n",
       "        <matplotlib.axes._subplots.AxesSubplot object at 0x7ff2e6846ed0>,\n",
       "        <matplotlib.axes._subplots.AxesSubplot object at 0x7ff2e6806710>],\n",
       "       [<matplotlib.axes._subplots.AxesSubplot object at 0x7ff2e67bcf10>,\n",
       "        <matplotlib.axes._subplots.AxesSubplot object at 0x7ff2e677c750>,\n",
       "        <matplotlib.axes._subplots.AxesSubplot object at 0x7ff2e6734f50>,\n",
       "        <matplotlib.axes._subplots.AxesSubplot object at 0x7ff2e66f4790>]],\n",
       "      dtype=object)"
      ]
     },
     "execution_count": 61,
     "metadata": {},
     "output_type": "execute_result"
    },
    {
     "data": {
      "image/png": "[encoded data removed]",
      "text/plain": [
       "<Figure size 1800x1440 with 20 Axes>"
      ]
     },
     "metadata": {
      "needs_background": "light"
     },
     "output_type": "display_data"
    }
   ],
   "source": [
    "rob_sc_train_test.hist(bins=50,figsize=(25,20))"
   ]
  },
  {
   "cell_type": "code",
   "execution_count": 62,
   "metadata": {},
   "outputs": [
    {
     "data": {
      "text/html": [
       "<div>\n",
       "<style scoped>\n",
       "    .dataframe tbody tr th:only-of-type {\n",
       "        vertical-align: middle;\n",
       "    }\n",
       "\n",
       "    .dataframe tbody tr th {\n",
       "        vertical-align: top;\n",
       "    }\n",
       "\n",
       "    .dataframe thead th {\n",
       "        text-align: right;\n",
       "    }\n",
       "</style>\n",
       "<table border=\"1\" class=\"dataframe\">\n",
       "  <thead>\n",
       "    <tr style=\"text-align: right;\">\n",
       "      <th></th>\n",
       "      <th>DEPTH_MD</th>\n",
       "      <th>X_LOC</th>\n",
       "      <th>Y_LOC</th>\n",
       "      <th>Z_LOC</th>\n",
       "      <th>GROUP</th>\n",
       "      <th>FORMATION</th>\n",
       "      <th>CALI</th>\n",
       "      <th>RSHA</th>\n",
       "      <th>RMED</th>\n",
       "      <th>RDEP</th>\n",
       "      <th>RHOB</th>\n",
       "      <th>GR</th>\n",
       "      <th>NPHI</th>\n",
       "      <th>PEF</th>\n",
       "      <th>DTC</th>\n",
       "      <th>SP</th>\n",
       "      <th>BS</th>\n",
       "      <th>ROP</th>\n",
       "      <th>DRHO</th>\n",
       "      <th>FORCE_2020_LITHOFACIES_LITHOLOGY</th>\n",
       "    </tr>\n",
       "  </thead>\n",
       "  <tbody>\n",
       "    <tr>\n",
       "      <th>0</th>\n",
       "      <td>-1.711118</td>\n",
       "      <td>-1.318958</td>\n",
       "      <td>-1.656543</td>\n",
       "      <td>1.754638</td>\n",
       "      <td>-0.195621</td>\n",
       "      <td>1.644851</td>\n",
       "      <td>1.760491</td>\n",
       "      <td>0.00323</td>\n",
       "      <td>-0.063283</td>\n",
       "      <td>-0.075812</td>\n",
       "      <td>-1.723094</td>\n",
       "      <td>0.290950</td>\n",
       "      <td>0.013973</td>\n",
       "      <td>1.744206</td>\n",
       "      <td>1.675299</td>\n",
       "      <td>-0.552117</td>\n",
       "      <td>0.020227</td>\n",
       "      <td>-0.098392</td>\n",
       "      <td>-0.090352</td>\n",
       "      <td>0.030382</td>\n",
       "    </tr>\n",
       "    <tr>\n",
       "      <th>1</th>\n",
       "      <td>-1.710967</td>\n",
       "      <td>-1.318958</td>\n",
       "      <td>-1.656543</td>\n",
       "      <td>1.754481</td>\n",
       "      <td>-0.195621</td>\n",
       "      <td>1.644851</td>\n",
       "      <td>1.757156</td>\n",
       "      <td>0.00323</td>\n",
       "      <td>-0.063154</td>\n",
       "      <td>-0.075840</td>\n",
       "      <td>-1.699204</td>\n",
       "      <td>0.263336</td>\n",
       "      <td>0.013973</td>\n",
       "      <td>1.561300</td>\n",
       "      <td>1.656968</td>\n",
       "      <td>-0.563563</td>\n",
       "      <td>0.020227</td>\n",
       "      <td>-0.098392</td>\n",
       "      <td>-0.089623</td>\n",
       "      <td>0.030382</td>\n",
       "    </tr>\n",
       "    <tr>\n",
       "      <th>2</th>\n",
       "      <td>-1.710816</td>\n",
       "      <td>-1.318958</td>\n",
       "      <td>-1.656543</td>\n",
       "      <td>1.754324</td>\n",
       "      <td>-0.195621</td>\n",
       "      <td>1.644851</td>\n",
       "      <td>1.757156</td>\n",
       "      <td>0.00323</td>\n",
       "      <td>-0.062991</td>\n",
       "      <td>-0.075793</td>\n",
       "      <td>-1.670536</td>\n",
       "      <td>0.132593</td>\n",
       "      <td>0.013973</td>\n",
       "      <td>1.944251</td>\n",
       "      <td>1.642037</td>\n",
       "      <td>-0.563230</td>\n",
       "      <td>0.020227</td>\n",
       "      <td>-0.098246</td>\n",
       "      <td>-0.090247</td>\n",
       "      <td>0.030382</td>\n",
       "    </tr>\n",
       "    <tr>\n",
       "      <th>3</th>\n",
       "      <td>-1.710665</td>\n",
       "      <td>-1.318958</td>\n",
       "      <td>-1.656543</td>\n",
       "      <td>1.754166</td>\n",
       "      <td>-0.195621</td>\n",
       "      <td>1.644851</td>\n",
       "      <td>1.754518</td>\n",
       "      <td>0.00323</td>\n",
       "      <td>-0.063085</td>\n",
       "      <td>-0.075786</td>\n",
       "      <td>-1.690175</td>\n",
       "      <td>0.075387</td>\n",
       "      <td>0.013973</td>\n",
       "      <td>3.090103</td>\n",
       "      <td>1.641197</td>\n",
       "      <td>-0.565189</td>\n",
       "      <td>0.020227</td>\n",
       "      <td>-0.092983</td>\n",
       "      <td>-0.092104</td>\n",
       "      <td>0.030382</td>\n",
       "    </tr>\n",
       "    <tr>\n",
       "      <th>4</th>\n",
       "      <td>-1.710514</td>\n",
       "      <td>-1.318958</td>\n",
       "      <td>-1.656543</td>\n",
       "      <td>1.754009</td>\n",
       "      <td>-0.195621</td>\n",
       "      <td>1.644851</td>\n",
       "      <td>1.752805</td>\n",
       "      <td>0.00323</td>\n",
       "      <td>-0.063453</td>\n",
       "      <td>-0.075843</td>\n",
       "      <td>-1.740781</td>\n",
       "      <td>0.041537</td>\n",
       "      <td>0.013973</td>\n",
       "      <td>3.842481</td>\n",
       "      <td>1.640464</td>\n",
       "      <td>-0.560233</td>\n",
       "      <td>0.020227</td>\n",
       "      <td>-0.075201</td>\n",
       "      <td>-0.093888</td>\n",
       "      <td>0.030382</td>\n",
       "    </tr>\n",
       "  </tbody>\n",
       "</table>\n",
       "</div>"
      ],
      "text/plain": [
       "   DEPTH_MD     X_LOC     Y_LOC     Z_LOC     GROUP  FORMATION      CALI  \\\n",
       "0 -1.711118 -1.318958 -1.656543  1.754638 -0.195621   1.644851  1.760491   \n",
       "1 -1.710967 -1.318958 -1.656543  1.754481 -0.195621   1.644851  1.757156   \n",
       "2 -1.710816 -1.318958 -1.656543  1.754324 -0.195621   1.644851  1.757156   \n",
       "3 -1.710665 -1.318958 -1.656543  1.754166 -0.195621   1.644851  1.754518   \n",
       "4 -1.710514 -1.318958 -1.656543  1.754009 -0.195621   1.644851  1.752805   \n",
       "\n",
       "      RSHA      RMED      RDEP      RHOB        GR      NPHI       PEF  \\\n",
       "0  0.00323 -0.063283 -0.075812 -1.723094  0.290950  0.013973  1.744206   \n",
       "1  0.00323 -0.063154 -0.075840 -1.699204  0.263336  0.013973  1.561300   \n",
       "2  0.00323 -0.062991 -0.075793 -1.670536  0.132593  0.013973  1.944251   \n",
       "3  0.00323 -0.063085 -0.075786 -1.690175  0.075387  0.013973  3.090103   \n",
       "4  0.00323 -0.063453 -0.075843 -1.740781  0.041537  0.013973  3.842481   \n",
       "\n",
       "        DTC        SP        BS       ROP      DRHO  \\\n",
       "0  1.675299 -0.552117  0.020227 -0.098392 -0.090352   \n",
       "1  1.656968 -0.563563  0.020227 -0.098392 -0.089623   \n",
       "2  1.642037 -0.563230  0.020227 -0.098246 -0.090247   \n",
       "3  1.641197 -0.565189  0.020227 -0.092983 -0.092104   \n",
       "4  1.640464 -0.560233  0.020227 -0.075201 -0.093888   \n",
       "\n",
       "   FORCE_2020_LITHOFACIES_LITHOLOGY  \n",
       "0                          0.030382  \n",
       "1                          0.030382  \n",
       "2                          0.030382  \n",
       "3                          0.030382  \n",
       "4                          0.030382  "
      ]
     },
     "execution_count": 62,
     "metadata": {},
     "output_type": "execute_result"
    }
   ],
   "source": [
    "sc_train_test.head()"
   ]
  },
  {
   "cell_type": "code",
   "execution_count": 63,
   "metadata": {},
   "outputs": [],
   "source": [
    "sc_train_test.drop(['FORCE_2020_LITHOFACIES_LITHOLOGY'],axis=1,inplace=True)"
   ]
  },
  {
   "cell_type": "code",
   "execution_count": 64,
   "metadata": {},
   "outputs": [],
   "source": [
    "rob_sc_train_test.drop(['FORCE_2020_LITHOFACIES_LITHOLOGY'],axis=1,inplace=True)"
   ]
  },
  {
   "cell_type": "code",
   "execution_count": 65,
   "metadata": {},
   "outputs": [],
   "source": [
    "# sc_train_test[\"FORCE_2020_LITHOFACIES_LITHOLOGY\"]=train_test1[\"FORCE_2020_LITHOFACIES_LITHOLOGY\"]"
   ]
  },
  {
   "cell_type": "code",
   "execution_count": 66,
   "metadata": {},
   "outputs": [],
   "source": [
    "def splitter(df, train):\n",
    "    train=train.shape[0]\n",
    "    \n",
    "    train_f = df.iloc[:train,:]\n",
    "    test_f = df.iloc[train:,:]\n",
    "    return train_f,test_f"
   ]
  },
  {
   "cell_type": "code",
   "execution_count": 67,
   "metadata": {},
   "outputs": [],
   "source": [
    "trainer,tester = splitter(sc_train_test,train)"
   ]
  },
  {
   "cell_type": "code",
   "execution_count": 68,
   "metadata": {},
   "outputs": [],
   "source": [
    "rob_trainer,rob_tester = splitter(rob_sc_train_test,train)"
   ]
  },
  {
   "cell_type": "code",
   "execution_count": 69,
   "metadata": {},
   "outputs": [
    {
     "data": {
      "text/plain": [
       "(1170511, 19)"
      ]
     },
     "execution_count": 69,
     "metadata": {},
     "output_type": "execute_result"
    }
   ],
   "source": [
    "rob_trainer.shape"
   ]
  },
  {
   "cell_type": "code",
   "execution_count": 70,
   "metadata": {},
   "outputs": [
    {
     "data": {
      "text/plain": [
       "(1170511, 19)"
      ]
     },
     "execution_count": 70,
     "metadata": {},
     "output_type": "execute_result"
    }
   ],
   "source": [
    "trainer.shape"
   ]
  },
  {
   "cell_type": "code",
   "execution_count": 71,
   "metadata": {},
   "outputs": [
    {
     "data": {
      "text/plain": [
       "(136786, 19)"
      ]
     },
     "execution_count": 71,
     "metadata": {},
     "output_type": "execute_result"
    }
   ],
   "source": [
    "tester.shape"
   ]
  },
  {
   "cell_type": "markdown",
   "metadata": {},
   "source": [
    "SPlitting the data"
   ]
  },
  {
   "cell_type": "code",
   "execution_count": 72,
   "metadata": {},
   "outputs": [],
   "source": [
    "X = trainer\n",
    "y= train['FORCE_2020_LITHOFACIES_LITHOLOGY']"
   ]
  },
  {
   "cell_type": "code",
   "execution_count": 73,
   "metadata": {},
   "outputs": [],
   "source": [
    "X_rb = rob_trainer"
   ]
  },
  {
   "cell_type": "code",
   "execution_count": 74,
   "metadata": {},
   "outputs": [],
   "source": [
    "y=y.map(lithology_numbers)"
   ]
  },
  {
   "cell_type": "code",
   "execution_count": 75,
   "metadata": {},
   "outputs": [
    {
     "data": {
      "text/plain": [
       "0          2\n",
       "1          2\n",
       "2          2\n",
       "3          2\n",
       "4          2\n",
       "          ..\n",
       "1170506    0\n",
       "1170507    1\n",
       "1170508    1\n",
       "1170509    1\n",
       "1170510    1\n",
       "Name: FORCE_2020_LITHOFACIES_LITHOLOGY, Length: 1170511, dtype: int64"
      ]
     },
     "execution_count": 75,
     "metadata": {},
     "output_type": "execute_result"
    }
   ],
   "source": [
    "y"
   ]
  },
  {
   "cell_type": "code",
   "execution_count": 76,
   "metadata": {},
   "outputs": [],
   "source": [
    "from sklearn.model_selection import train_test_split"
   ]
  },
  {
   "cell_type": "code",
   "execution_count": 77,
   "metadata": {},
   "outputs": [],
   "source": [
    "X_train,X_test,y_train,y_test = train_test_split(X,y, stratify=train['FORCE_2020_LITHOFACIES_LITHOLOGY'], test_size = .3)"
   ]
  },
  {
   "cell_type": "code",
   "execution_count": 78,
   "metadata": {},
   "outputs": [],
   "source": [
    "X_train_rb,X_test_rb,y_train_rb,y_test_rb = train_test_split(X_rb,y, stratify=train['FORCE_2020_LITHOFACIES_LITHOLOGY'], test_size = .3)"
   ]
  },
  {
   "cell_type": "markdown",
   "metadata": {},
   "source": [
    "## Applying the custom scoring function"
   ]
  },
  {
   "cell_type": "code",
   "execution_count": 79,
   "metadata": {},
   "outputs": [],
   "source": [
    "A = np.load('penalty_matrix.npy')"
   ]
  },
  {
   "cell_type": "code",
   "execution_count": 80,
   "metadata": {},
   "outputs": [],
   "source": [
    "def score(y_true, y_pred):\n",
    "    S = 0.0\n",
    "    y_true = y_true.astype(int)\n",
    "    y_pred = y_pred.astype(int)\n",
    "    for i in range(0, y_true.shape[0]):\n",
    "        S -= A[y_true[i], y_pred[i]]\n",
    "    return S/y_true.shape[0]"
   ]
  },
  {
   "cell_type": "code",
   "execution_count": 81,
   "metadata": {},
   "outputs": [],
   "source": [
    "from sklearn.ensemble import RandomForestClassifier\n",
    "\n",
    "clf=RandomForestClassifier(random_state =42, class_weight='balanced')"
   ]
  },
  {
   "cell_type": "code",
   "execution_count": 82,
   "metadata": {},
   "outputs": [
    {
     "data": {
      "text/plain": [
       "RandomForestClassifier(bootstrap=True, ccp_alpha=0.0, class_weight='balanced',\n",
       "                       criterion='gini', max_depth=None, max_features='auto',\n",
       "                       max_leaf_nodes=None, max_samples=None,\n",
       "                       min_impurity_decrease=0.0, min_impurity_split=None,\n",
       "                       min_samples_leaf=1, min_samples_split=2,\n",
       "                       min_weight_fraction_leaf=0.0, n_estimators=100,\n",
       "                       n_jobs=None, oob_score=False, random_state=42, verbose=0,\n",
       "                       warm_start=False)"
      ]
     },
     "execution_count": 82,
     "metadata": {},
     "output_type": "execute_result"
    }
   ],
   "source": [
    "clf.fit(X_train,y_train)"
   ]
  },
  {
   "cell_type": "code",
   "execution_count": 83,
   "metadata": {},
   "outputs": [],
   "source": [
    "y_pred = clf.predict(X_test)"
   ]
  },
  {
   "cell_type": "code",
   "execution_count": null,
   "metadata": {},
   "outputs": [],
   "source": []
  },
  {
   "cell_type": "code",
   "execution_count": null,
   "metadata": {},
   "outputs": [],
   "source": []
  },
  {
   "cell_type": "code",
   "execution_count": 84,
   "metadata": {},
   "outputs": [
    {
     "data": {
      "text/plain": [
       "-0.10999233954333426"
      ]
     },
     "execution_count": 84,
     "metadata": {},
     "output_type": "execute_result"
    }
   ],
   "source": [
    "score(y_test.values,y_pred)"
   ]
  },
  {
   "cell_type": "code",
   "execution_count": 85,
   "metadata": {},
   "outputs": [
    {
     "data": {
      "text/plain": [
       "0.9600517152018773"
      ]
     },
     "execution_count": 85,
     "metadata": {},
     "output_type": "execute_result"
    }
   ],
   "source": [
    "clf.score(X_test,y_test)"
   ]
  },
  {
   "cell_type": "code",
   "execution_count": 82,
   "metadata": {},
   "outputs": [],
   "source": [
    "import pickle"
   ]
  },
  {
   "cell_type": "code",
   "execution_count": 76,
   "metadata": {},
   "outputs": [
    {
     "ename": "SyntaxError",
     "evalue": "can't assign to function call (<ipython-input-76-6be80ebc940c>, line 1)",
     "output_type": "error",
     "traceback": [
      "\u001b[0;36m  File \u001b[0;32m\"<ipython-input-76-6be80ebc940c>\"\u001b[0;36m, line \u001b[0;32m1\u001b[0m\n\u001b[0;31m    base_model(rf)=pickle.dump(clf)\u001b[0m\n\u001b[0m                                   ^\u001b[0m\n\u001b[0;31mSyntaxError\u001b[0m\u001b[0;31m:\u001b[0m can't assign to function call\n"
     ]
    }
   ],
   "source": []
  },
  {
   "cell_type": "code",
   "execution_count": null,
   "metadata": {},
   "outputs": [],
   "source": []
  },
  {
   "cell_type": "code",
   "execution_count": null,
   "metadata": {},
   "outputs": [],
   "source": []
  },
  {
   "cell_type": "code",
   "execution_count": null,
   "metadata": {},
   "outputs": [],
   "source": []
  },
  {
   "cell_type": "markdown",
   "metadata": {},
   "source": [
    "## Training the whole data set "
   ]
  },
  {
   "cell_type": "code",
   "execution_count": 87,
   "metadata": {},
   "outputs": [
    {
     "data": {
      "text/plain": [
       "RandomForestClassifier(bootstrap=True, ccp_alpha=0.0, class_weight='balanced',\n",
       "                       criterion='gini', max_depth=None, max_features='auto',\n",
       "                       max_leaf_nodes=None, max_samples=None,\n",
       "                       min_impurity_decrease=0.0, min_impurity_split=None,\n",
       "                       min_samples_leaf=1, min_samples_split=2,\n",
       "                       min_weight_fraction_leaf=0.0, n_estimators=100,\n",
       "                       n_jobs=None, oob_score=False, random_state=42, verbose=0,\n",
       "                       warm_start=False)"
      ]
     },
     "execution_count": 87,
     "metadata": {},
     "output_type": "execute_result"
    }
   ],
   "source": [
    "clf.fit(X,y)"
   ]
  },
  {
   "cell_type": "code",
   "execution_count": 88,
   "metadata": {},
   "outputs": [],
   "source": [
    "#Test predict\n",
    "\n",
    "test_predict = clf.predict(tester)"
   ]
  },
  {
   "cell_type": "code",
   "execution_count": 89,
   "metadata": {},
   "outputs": [],
   "source": [
    "#test model classifer\n",
    "\n",
    "\n",
    "y_pred_1 = clf.predict(X_test)"
   ]
  },
  {
   "cell_type": "code",
   "execution_count": 90,
   "metadata": {},
   "outputs": [
    {
     "data": {
      "text/plain": [
       "0.0"
      ]
     },
     "execution_count": 90,
     "metadata": {},
     "output_type": "execute_result"
    }
   ],
   "source": [
    "score(y_test.values,y_pred_1)"
   ]
  },
  {
   "cell_type": "code",
   "execution_count": 91,
   "metadata": {},
   "outputs": [
    {
     "data": {
      "text/plain": [
       "1.0"
      ]
     },
     "execution_count": 91,
     "metadata": {},
     "output_type": "execute_result"
    }
   ],
   "source": [
    "clf.score(X_test,y_test)"
   ]
  },
  {
   "cell_type": "code",
   "execution_count": 95,
   "metadata": {},
   "outputs": [],
   "source": [
    "pickle.dump(clf, open('baseLinemodel(rf).pkl', 'wb'))"
   ]
  },
  {
   "cell_type": "code",
   "execution_count": 96,
   "metadata": {},
   "outputs": [],
   "source": [
    "#Baseline Standard scaler\n",
    "\n",
    "\n",
    "pickle.dump(scale, open('StandardScaler.pkl', 'wb'))"
   ]
  },
  {
   "cell_type": "markdown",
   "metadata": {},
   "source": [
    "# Rob Scale"
   ]
  },
  {
   "cell_type": "code",
   "execution_count": 83,
   "metadata": {},
   "outputs": [],
   "source": [
    "rb_clf = RandomForestClassifier(random_state=42,class_weight='balanced')"
   ]
  },
  {
   "cell_type": "code",
   "execution_count": 84,
   "metadata": {},
   "outputs": [
    {
     "data": {
      "text/plain": [
       "RandomForestClassifier(bootstrap=True, ccp_alpha=0.0, class_weight='balanced',\n",
       "                       criterion='gini', max_depth=None, max_features='auto',\n",
       "                       max_leaf_nodes=None, max_samples=None,\n",
       "                       min_impurity_decrease=0.0, min_impurity_split=None,\n",
       "                       min_samples_leaf=1, min_samples_split=2,\n",
       "                       min_weight_fraction_leaf=0.0, n_estimators=100,\n",
       "                       n_jobs=None, oob_score=False, random_state=42, verbose=0,\n",
       "                       warm_start=False)"
      ]
     },
     "execution_count": 84,
     "metadata": {},
     "output_type": "execute_result"
    }
   ],
   "source": [
    "rb_clf.fit(X_train_rb,y_train_rb)"
   ]
  },
  {
   "cell_type": "code",
   "execution_count": 85,
   "metadata": {},
   "outputs": [],
   "source": [
    "rob_predict = rb_clf.predict(X_test_rb)"
   ]
  },
  {
   "cell_type": "code",
   "execution_count": 86,
   "metadata": {},
   "outputs": [
    {
     "data": {
      "text/plain": [
       "-0.10967232325418477"
      ]
     },
     "execution_count": 86,
     "metadata": {},
     "output_type": "execute_result"
    }
   ],
   "source": [
    "score(y_test_rb.values,rob_predict)"
   ]
  },
  {
   "cell_type": "code",
   "execution_count": 87,
   "metadata": {},
   "outputs": [
    {
     "data": {
      "text/plain": [
       "RandomForestClassifier(bootstrap=True, ccp_alpha=0.0, class_weight='balanced',\n",
       "                       criterion='gini', max_depth=None, max_features='auto',\n",
       "                       max_leaf_nodes=None, max_samples=None,\n",
       "                       min_impurity_decrease=0.0, min_impurity_split=None,\n",
       "                       min_samples_leaf=1, min_samples_split=2,\n",
       "                       min_weight_fraction_leaf=0.0, n_estimators=100,\n",
       "                       n_jobs=None, oob_score=False, random_state=42, verbose=0,\n",
       "                       warm_start=False)"
      ]
     },
     "execution_count": 87,
     "metadata": {},
     "output_type": "execute_result"
    }
   ],
   "source": [
    "rb_clf.fit(X_rb,y)"
   ]
  },
  {
   "cell_type": "code",
   "execution_count": 88,
   "metadata": {},
   "outputs": [],
   "source": [
    "rob_predict = rb_clf.predict(rob_tester)"
   ]
  },
  {
   "cell_type": "code",
   "execution_count": 89,
   "metadata": {},
   "outputs": [],
   "source": [
    "#test model classifer\n",
    "\n",
    "\n",
    "rob_preds_1 = rb_clf.predict(X_test_rb)"
   ]
  },
  {
   "cell_type": "code",
   "execution_count": 92,
   "metadata": {},
   "outputs": [
    {
     "data": {
      "text/plain": [
       "1.0"
      ]
     },
     "execution_count": 92,
     "metadata": {},
     "output_type": "execute_result"
    }
   ],
   "source": [
    "rb_clf.score(X_test_rb,y_test_rb)"
   ]
  },
  {
   "cell_type": "code",
   "execution_count": 94,
   "metadata": {},
   "outputs": [
    {
     "data": {
      "text/plain": [
       "0.0"
      ]
     },
     "execution_count": 94,
     "metadata": {},
     "output_type": "execute_result"
    }
   ],
   "source": [
    "score(y_test_rb.values,rob_preds_1)"
   ]
  },
  {
   "cell_type": "code",
   "execution_count": 95,
   "metadata": {},
   "outputs": [],
   "source": [
    "pickle.dump(rb_clf, open('baseLinemodel(2)ROBScale(rf).pkl', 'wb'))"
   ]
  },
  {
   "cell_type": "code",
   "execution_count": 96,
   "metadata": {},
   "outputs": [],
   "source": [
    "#Baseline Standard scaler\n",
    "\n",
    "\n",
    "pickle.dump(rob_scale, open('RobustScaler.pkl', 'wb'))"
   ]
  },
  {
   "cell_type": "code",
   "execution_count": 97,
   "metadata": {},
   "outputs": [],
   "source": [
    "Lithpreds1= np.vectorize(category_to_lithology.get)(rob_predict)"
   ]
  },
  {
   "cell_type": "code",
   "execution_count": 98,
   "metadata": {},
   "outputs": [
    {
     "data": {
      "text/plain": [
       "array([65000, 65000, 65000, ..., 30000, 30000, 30000])"
      ]
     },
     "execution_count": 98,
     "metadata": {},
     "output_type": "execute_result"
    }
   ],
   "source": [
    "Lithpreds1"
   ]
  },
  {
   "cell_type": "code",
   "execution_count": 99,
   "metadata": {},
   "outputs": [],
   "source": [
    "np.savetxt('submission2(rob).csv', Lithpreds1, header='lithology',comments='',fmt='%i')"
   ]
  },
  {
   "cell_type": "code",
   "execution_count": null,
   "metadata": {},
   "outputs": [],
   "source": []
  },
  {
   "cell_type": "code",
   "execution_count": null,
   "metadata": {},
   "outputs": [],
   "source": []
  },
  {
   "cell_type": "code",
   "execution_count": null,
   "metadata": {},
   "outputs": [],
   "source": []
  },
  {
   "cell_type": "markdown",
   "metadata": {},
   "source": [
    "## Converting the result to the format for submission"
   ]
  },
  {
   "cell_type": "code",
   "execution_count": 93,
   "metadata": {},
   "outputs": [],
   "source": [
    "category_to_lithology = {y:x for x,y in lithology_numbers.items()}"
   ]
  },
  {
   "cell_type": "code",
   "execution_count": 79,
   "metadata": {},
   "outputs": [],
   "source": [
    "Lithpreds= np.vectorize(category_to_lithology.get)(test_predict)"
   ]
  },
  {
   "cell_type": "code",
   "execution_count": 80,
   "metadata": {},
   "outputs": [
    {
     "data": {
      "text/plain": [
       "array([65000, 65000, 65000, ..., 30000, 30000, 30000])"
      ]
     },
     "execution_count": 80,
     "metadata": {},
     "output_type": "execute_result"
    }
   ],
   "source": [
    "Lithpreds"
   ]
  },
  {
   "cell_type": "code",
   "execution_count": 81,
   "metadata": {},
   "outputs": [],
   "source": [
    "np.savetxt('submission1.csv', Lithpreds, header='lithology',comments='',fmt='%i')"
   ]
  },
  {
   "cell_type": "markdown",
   "metadata": {},
   "source": [
    "## using the mapped y as the stratify"
   ]
  },
  {
   "cell_type": "code",
   "execution_count": 83,
   "metadata": {},
   "outputs": [],
   "source": [
    "X_train1,X_test1,y_train1,y_test1 = train_test_split(X,y, stratify=y, test_size = .3)"
   ]
  },
  {
   "cell_type": "code",
   "execution_count": 85,
   "metadata": {},
   "outputs": [],
   "source": [
    "y_pred_y = clf1.predict(X_test1)"
   ]
  },
  {
   "cell_type": "code",
   "execution_count": null,
   "metadata": {},
   "outputs": [],
   "source": []
  },
  {
   "cell_type": "markdown",
   "metadata": {},
   "source": [
    "# Working on improving the model."
   ]
  },
  {
   "cell_type": "code",
   "execution_count": 77,
   "metadata": {},
   "outputs": [],
   "source": [
    "n_estimators = [200, 400, 600, 800]\n",
    "max_depth = [5, 7, 9, 12]\n",
    "min_samples_split = [2, 5, 7]\n",
    "min_samples_leaf = [2, 4, 6] \n",
    "\n",
    "hyperF = dict(n_estimators = n_estimators, max_depth = max_depth,  \n",
    "              min_samples_split = min_samples_split, \n",
    "             min_samples_leaf = min_samples_leaf)\n"
   ]
  },
  {
   "cell_type": "code",
   "execution_count": 84,
   "metadata": {},
   "outputs": [],
   "source": [
    "clf1 = RandomForestClassifier(max_depth=4, n_estimators=400, class_weight='balanced')"
   ]
  },
  {
   "cell_type": "code",
   "execution_count": 85,
   "metadata": {},
   "outputs": [
    {
     "data": {
      "text/plain": [
       "RandomForestClassifier(bootstrap=True, ccp_alpha=0.0, class_weight='balanced',\n",
       "                       criterion='gini', max_depth=4, max_features='auto',\n",
       "                       max_leaf_nodes=None, max_samples=None,\n",
       "                       min_impurity_decrease=0.0, min_impurity_split=None,\n",
       "                       min_samples_leaf=1, min_samples_split=2,\n",
       "                       min_weight_fraction_leaf=0.0, n_estimators=400,\n",
       "                       n_jobs=None, oob_score=False, random_state=None,\n",
       "                       verbose=0, warm_start=False)"
      ]
     },
     "execution_count": 85,
     "metadata": {},
     "output_type": "execute_result"
    }
   ],
   "source": [
    "clf1.fit(X_train,y_train)"
   ]
  },
  {
   "cell_type": "code",
   "execution_count": 86,
   "metadata": {},
   "outputs": [],
   "source": [
    "y_m_pred = clf1.predict(X_test)"
   ]
  },
  {
   "cell_type": "code",
   "execution_count": 87,
   "metadata": {},
   "outputs": [
    {
     "data": {
      "text/plain": [
       "-2.0485392448897066"
      ]
     },
     "execution_count": 87,
     "metadata": {},
     "output_type": "execute_result"
    }
   ],
   "source": [
    "score(y_test.values,y_m_pred)"
   ]
  },
  {
   "cell_type": "code",
   "execution_count": 89,
   "metadata": {},
   "outputs": [],
   "source": [
    "trainer.to_csv('trainer.csv')"
   ]
  },
  {
   "cell_type": "code",
   "execution_count": null,
   "metadata": {},
   "outputs": [],
   "source": [
    "tester.to_csv('tester.csv')"
   ]
  },
  {
   "cell_type": "code",
   "execution_count": null,
   "metadata": {},
   "outputs": [],
   "source": []
  },
  {
   "cell_type": "code",
   "execution_count": null,
   "metadata": {},
   "outputs": [],
   "source": []
  },
  {
   "cell_type": "code",
   "execution_count": null,
   "metadata": {},
   "outputs": [],
   "source": []
  },
  {
   "cell_type": "markdown",
   "metadata": {},
   "source": [
    "## Using the XGBoost classifier as another model."
   ]
  },
  {
   "cell_type": "code",
   "execution_count": 67,
   "metadata": {},
   "outputs": [],
   "source": [
    "import xgboost as xgb"
   ]
  },
  {
   "cell_type": "code",
   "execution_count": 68,
   "metadata": {},
   "outputs": [],
   "source": [
    "from xgboost import XGBClassifier"
   ]
  },
  {
   "cell_type": "code",
   "execution_count": 71,
   "metadata": {},
   "outputs": [],
   "source": [
    "xgb_clf= XGBClassifier(objective='multi:softmax')"
   ]
  },
  {
   "cell_type": "code",
   "execution_count": 72,
   "metadata": {},
   "outputs": [
    {
     "ename": "KeyboardInterrupt",
     "evalue": "",
     "output_type": "error",
     "traceback": [
      "\u001b[0;31m---------------------------------------------------------------------------\u001b[0m",
      "\u001b[0;31mKeyboardInterrupt\u001b[0m                         Traceback (most recent call last)",
      "\u001b[0;32m<ipython-input-72-8909690742af>\u001b[0m in \u001b[0;36m<module>\u001b[0;34m\u001b[0m\n\u001b[0;32m----> 1\u001b[0;31m \u001b[0mxgb_clf\u001b[0m\u001b[0;34m.\u001b[0m\u001b[0mfit\u001b[0m\u001b[0;34m(\u001b[0m\u001b[0mX_train\u001b[0m\u001b[0;34m,\u001b[0m\u001b[0my_train\u001b[0m\u001b[0;34m)\u001b[0m\u001b[0;34m\u001b[0m\u001b[0;34m\u001b[0m\u001b[0m\n\u001b[0m",
      "\u001b[0;32m~/anaconda3/lib/python3.7/site-packages/xgboost/sklearn.py\u001b[0m in \u001b[0;36mfit\u001b[0;34m(self, X, y, sample_weight, base_margin, eval_set, eval_metric, early_stopping_rounds, verbose, xgb_model, sample_weight_eval_set, callbacks)\u001b[0m\n\u001b[1;32m    822\u001b[0m                               \u001b[0mevals_result\u001b[0m\u001b[0;34m=\u001b[0m\u001b[0mevals_result\u001b[0m\u001b[0;34m,\u001b[0m \u001b[0mobj\u001b[0m\u001b[0;34m=\u001b[0m\u001b[0mobj\u001b[0m\u001b[0;34m,\u001b[0m \u001b[0mfeval\u001b[0m\u001b[0;34m=\u001b[0m\u001b[0mfeval\u001b[0m\u001b[0;34m,\u001b[0m\u001b[0;34m\u001b[0m\u001b[0;34m\u001b[0m\u001b[0m\n\u001b[1;32m    823\u001b[0m                               \u001b[0mverbose_eval\u001b[0m\u001b[0;34m=\u001b[0m\u001b[0mverbose\u001b[0m\u001b[0;34m,\u001b[0m \u001b[0mxgb_model\u001b[0m\u001b[0;34m=\u001b[0m\u001b[0mxgb_model\u001b[0m\u001b[0;34m,\u001b[0m\u001b[0;34m\u001b[0m\u001b[0;34m\u001b[0m\u001b[0m\n\u001b[0;32m--> 824\u001b[0;31m                               callbacks=callbacks)\n\u001b[0m\u001b[1;32m    825\u001b[0m \u001b[0;34m\u001b[0m\u001b[0m\n\u001b[1;32m    826\u001b[0m         \u001b[0mself\u001b[0m\u001b[0;34m.\u001b[0m\u001b[0mobjective\u001b[0m \u001b[0;34m=\u001b[0m \u001b[0mxgb_options\u001b[0m\u001b[0;34m[\u001b[0m\u001b[0;34m\"objective\"\u001b[0m\u001b[0;34m]\u001b[0m\u001b[0;34m\u001b[0m\u001b[0;34m\u001b[0m\u001b[0m\n",
      "\u001b[0;32m~/anaconda3/lib/python3.7/site-packages/xgboost/training.py\u001b[0m in \u001b[0;36mtrain\u001b[0;34m(params, dtrain, num_boost_round, evals, obj, feval, maximize, early_stopping_rounds, evals_result, verbose_eval, xgb_model, callbacks)\u001b[0m\n\u001b[1;32m    210\u001b[0m                            \u001b[0mevals\u001b[0m\u001b[0;34m=\u001b[0m\u001b[0mevals\u001b[0m\u001b[0;34m,\u001b[0m\u001b[0;34m\u001b[0m\u001b[0;34m\u001b[0m\u001b[0m\n\u001b[1;32m    211\u001b[0m                            \u001b[0mobj\u001b[0m\u001b[0;34m=\u001b[0m\u001b[0mobj\u001b[0m\u001b[0;34m,\u001b[0m \u001b[0mfeval\u001b[0m\u001b[0;34m=\u001b[0m\u001b[0mfeval\u001b[0m\u001b[0;34m,\u001b[0m\u001b[0;34m\u001b[0m\u001b[0;34m\u001b[0m\u001b[0m\n\u001b[0;32m--> 212\u001b[0;31m                            xgb_model=xgb_model, callbacks=callbacks)\n\u001b[0m\u001b[1;32m    213\u001b[0m \u001b[0;34m\u001b[0m\u001b[0m\n\u001b[1;32m    214\u001b[0m \u001b[0;34m\u001b[0m\u001b[0m\n",
      "\u001b[0;32m~/anaconda3/lib/python3.7/site-packages/xgboost/training.py\u001b[0m in \u001b[0;36m_train_internal\u001b[0;34m(params, dtrain, num_boost_round, evals, obj, feval, xgb_model, callbacks)\u001b[0m\n\u001b[1;32m     73\u001b[0m         \u001b[0;31m# Skip the first update if it is a recovery step.\u001b[0m\u001b[0;34m\u001b[0m\u001b[0;34m\u001b[0m\u001b[0;34m\u001b[0m\u001b[0m\n\u001b[1;32m     74\u001b[0m         \u001b[0;32mif\u001b[0m \u001b[0mversion\u001b[0m \u001b[0;34m%\u001b[0m \u001b[0;36m2\u001b[0m \u001b[0;34m==\u001b[0m \u001b[0;36m0\u001b[0m\u001b[0;34m:\u001b[0m\u001b[0;34m\u001b[0m\u001b[0;34m\u001b[0m\u001b[0m\n\u001b[0;32m---> 75\u001b[0;31m             \u001b[0mbst\u001b[0m\u001b[0;34m.\u001b[0m\u001b[0mupdate\u001b[0m\u001b[0;34m(\u001b[0m\u001b[0mdtrain\u001b[0m\u001b[0;34m,\u001b[0m \u001b[0mi\u001b[0m\u001b[0;34m,\u001b[0m \u001b[0mobj\u001b[0m\u001b[0;34m)\u001b[0m\u001b[0;34m\u001b[0m\u001b[0;34m\u001b[0m\u001b[0m\n\u001b[0m\u001b[1;32m     76\u001b[0m             \u001b[0mbst\u001b[0m\u001b[0;34m.\u001b[0m\u001b[0msave_rabit_checkpoint\u001b[0m\u001b[0;34m(\u001b[0m\u001b[0;34m)\u001b[0m\u001b[0;34m\u001b[0m\u001b[0;34m\u001b[0m\u001b[0m\n\u001b[1;32m     77\u001b[0m             \u001b[0mversion\u001b[0m \u001b[0;34m+=\u001b[0m \u001b[0;36m1\u001b[0m\u001b[0;34m\u001b[0m\u001b[0;34m\u001b[0m\u001b[0m\n",
      "\u001b[0;32m~/anaconda3/lib/python3.7/site-packages/xgboost/core.py\u001b[0m in \u001b[0;36mupdate\u001b[0;34m(self, dtrain, iteration, fobj)\u001b[0m\n\u001b[1;32m   1367\u001b[0m             _check_call(_LIB.XGBoosterUpdateOneIter(self.handle,\n\u001b[1;32m   1368\u001b[0m                                                     \u001b[0mctypes\u001b[0m\u001b[0;34m.\u001b[0m\u001b[0mc_int\u001b[0m\u001b[0;34m(\u001b[0m\u001b[0miteration\u001b[0m\u001b[0;34m)\u001b[0m\u001b[0;34m,\u001b[0m\u001b[0;34m\u001b[0m\u001b[0;34m\u001b[0m\u001b[0m\n\u001b[0;32m-> 1369\u001b[0;31m                                                     dtrain.handle))\n\u001b[0m\u001b[1;32m   1370\u001b[0m         \u001b[0;32melse\u001b[0m\u001b[0;34m:\u001b[0m\u001b[0;34m\u001b[0m\u001b[0;34m\u001b[0m\u001b[0m\n\u001b[1;32m   1371\u001b[0m             \u001b[0mpred\u001b[0m \u001b[0;34m=\u001b[0m \u001b[0mself\u001b[0m\u001b[0;34m.\u001b[0m\u001b[0mpredict\u001b[0m\u001b[0;34m(\u001b[0m\u001b[0mdtrain\u001b[0m\u001b[0;34m,\u001b[0m \u001b[0moutput_margin\u001b[0m\u001b[0;34m=\u001b[0m\u001b[0;32mTrue\u001b[0m\u001b[0;34m,\u001b[0m \u001b[0mtraining\u001b[0m\u001b[0;34m=\u001b[0m\u001b[0;32mTrue\u001b[0m\u001b[0;34m)\u001b[0m\u001b[0;34m\u001b[0m\u001b[0;34m\u001b[0m\u001b[0m\n",
      "\u001b[0;31mKeyboardInterrupt\u001b[0m: "
     ]
    }
   ],
   "source": [
    "xgb_clf.fit(X_train,y_train)"
   ]
  },
  {
   "cell_type": "code",
   "execution_count": null,
   "metadata": {},
   "outputs": [],
   "source": []
  },
  {
   "cell_type": "code",
   "execution_count": null,
   "metadata": {},
   "outputs": [],
   "source": []
  },
  {
   "cell_type": "code",
   "execution_count": null,
   "metadata": {},
   "outputs": [],
   "source": []
  },
  {
   "cell_type": "code",
   "execution_count": null,
   "metadata": {},
   "outputs": [],
   "source": []
  },
  {
   "cell_type": "code",
   "execution_count": null,
   "metadata": {},
   "outputs": [],
   "source": []
  },
  {
   "cell_type": "code",
   "execution_count": null,
   "metadata": {},
   "outputs": [],
   "source": []
  },
  {
   "cell_type": "code",
   "execution_count": null,
   "metadata": {},
   "outputs": [],
   "source": []
  },
  {
   "cell_type": "code",
   "execution_count": null,
   "metadata": {},
   "outputs": [],
   "source": []
  },
  {
   "cell_type": "code",
   "execution_count": null,
   "metadata": {},
   "outputs": [],
   "source": []
  },
  {
   "cell_type": "code",
   "execution_count": null,
   "metadata": {},
   "outputs": [],
   "source": []
  },
  {
   "cell_type": "code",
   "execution_count": null,
   "metadata": {},
   "outputs": [],
   "source": []
  },
  {
   "cell_type": "code",
   "execution_count": null,
   "metadata": {},
   "outputs": [],
   "source": []
  },
  {
   "cell_type": "code",
   "execution_count": null,
   "metadata": {},
   "outputs": [],
   "source": []
  }
 ],
 "metadata": {
  "kernelspec": {
   "display_name": "Python 3",
   "language": "python",
   "name": "python3"
  },
  "language_info": {
   "codemirror_mode": {
    "name": "ipython",
    "version": 3
   },
   "file_extension": ".py",
   "mimetype": "text/x-python",
   "name": "python",
   "nbconvert_exporter": "python",
   "pygments_lexer": "ipython3",
   "version": "3.7.6"
  }
 },
 "nbformat": 4,
 "nbformat_minor": 4
}
